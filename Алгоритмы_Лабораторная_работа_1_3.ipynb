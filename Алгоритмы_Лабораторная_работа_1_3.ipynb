{
  "nbformat": 4,
  "nbformat_minor": 0,
  "metadata": {
    "colab": {
      "provenance": [],
      "authorship_tag": "ABX9TyOTmsMypPjuRIriPjXQJXi0",
      "include_colab_link": true
    },
    "kernelspec": {
      "name": "python3",
      "display_name": "Python 3"
    },
    "language_info": {
      "name": "python"
    }
  },
  "cells": [
    {
      "cell_type": "markdown",
      "metadata": {
        "id": "view-in-github",
        "colab_type": "text"
      },
      "source": [
        "<a href=\"https://colab.research.google.com/github/ChumakovOA/programming/blob/main/%D0%90%D0%BB%D0%B3%D0%BE%D1%80%D0%B8%D1%82%D0%BC%D1%8B_%D0%9B%D0%B0%D0%B1%D0%BE%D1%80%D0%B0%D1%82%D0%BE%D1%80%D0%BD%D0%B0%D1%8F_%D1%80%D0%B0%D0%B1%D0%BE%D1%82%D0%B0_1_3.ipynb\" target=\"_parent\"><img src=\"https://colab.research.google.com/assets/colab-badge.svg\" alt=\"Open In Colab\"/></a>"
      ]
    },
    {
      "cell_type": "code",
      "execution_count": 3,
      "metadata": {
        "colab": {
          "base_uri": "https://localhost:8080/"
        },
        "id": "XyCCSrkQ7F4x",
        "outputId": "0e3b27a8-07e2-4035-ccf5-2ea4f4548358"
      },
      "outputs": [
        {
          "output_type": "stream",
          "name": "stdout",
          "text": [
            "Среднее значение: 6.0\n"
          ]
        }
      ],
      "source": [
        "# Задание №21 1.3\n",
        "# Выполнил: Чумаков О.А.\n",
        "# Группа: ЦИБ-241\n",
        "\n",
        "def recursive_average(arr, n=None, index=0, current_sum=0):\n",
        "    if n is None:\n",
        "        n = len(arr)\n",
        "    if index == n:\n",
        "        return current_sum / n if n > 0 else 0\n",
        "    return recursive_average(arr, n, index + 1, current_sum + arr[index])\n",
        "numbers = [2, 4, 6, 8, 10]\n",
        "avg = recursive_average(numbers)\n",
        "print(f\"Среднее значение: {avg}\")"
      ]
    }
  ]
}