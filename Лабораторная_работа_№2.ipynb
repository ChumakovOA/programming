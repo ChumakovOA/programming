{
  "cells": [
    {
      "cell_type": "markdown",
      "metadata": {
        "id": "view-in-github",
        "colab_type": "text"
      },
      "source": [
        "<a href=\"https://colab.research.google.com/github/ChumakovOA/programming/blob/main/%D0%9B%D0%B0%D0%B1%D0%BE%D1%80%D0%B0%D1%82%D0%BE%D1%80%D0%BD%D0%B0%D1%8F_%D1%80%D0%B0%D0%B1%D0%BE%D1%82%D0%B0_%E2%84%962.ipynb\" target=\"_parent\"><img src=\"https://colab.research.google.com/assets/colab-badge.svg\" alt=\"Open In Colab\"/></a>"
      ]
    },
    {
      "cell_type": "code",
      "execution_count": null,
      "metadata": {
        "colab": {
          "base_uri": "https://localhost:8080/"
        },
        "id": "6_2AF41_tVGh",
        "outputId": "424eb36e-66b6-4db6-b9bd-95aa9a6c16b3"
      },
      "outputs": [
        {
          "name": "stdout",
          "output_type": "stream",
          "text": [
            "x= 10\n",
            "103.16\n"
          ]
        }
      ],
      "source": [
        "# Задание task_02_01.\n",
        "#\n",
        "# Выполнил: Чумаков Олег\n",
        "# Группа: ЦИБ-241\n",
        "\n",
        "\n",
        "\n",
        "x = int(input(\"x = \"))\n",
        "\n",
        "if x >= 0:\n",
        "    f = x**(1/2) + x**2\n",
        "else:\n",
        "    f = 1 / x\n",
        "\n",
        "print(round(f, 2))\n",
        "\n",
        "# --------------\n",
        "# Пример вывода:\n",
        "#\n",
        "# Введите число x: -10\n",
        "# f = -0.10\n",
        "\n",
        "# Введите число x: 0\n",
        "# f = 0.00\n",
        "\n",
        "# Введите число x: 10\n",
        "# f = 103.16"
      ]
    },
    {
      "cell_type": "code",
      "execution_count": null,
      "metadata": {
        "colab": {
          "base_uri": "https://localhost:8080/"
        },
        "id": "Kfji7i3hQRsx",
        "outputId": "85cd11b7-d261-4670-bffb-49de40f14ecc"
      },
      "outputs": [
        {
          "name": "stdout",
          "output_type": "stream",
          "text": [
            "a1 = 100\n",
            "a2 = -1\n",
            "Максимум: 100, минимум: -1\n"
          ]
        }
      ],
      "source": [
        "# Программирование на языке высокого уровня (Python).\n",
        "# https://www.yuripetrov.ru/edu/python\n",
        "# Задание task_02_02.\n",
        "#\n",
        "# Выполнил: Чумаков Олег\n",
        "# Группа: ЦИБ-241\n",
        "# E-mail: ChumakovOA300@mgpu.ru\n",
        "\n",
        "\n",
        "a1 = int(input(\"a1 = \"))\n",
        "a2 = int(input(\"a2 = \"))\n",
        "\n",
        "# Переменная 'a_min' должна содержать минимум, 'a_max' - максимум\n",
        "if a1 > a2:\n",
        "  a_min = a2\n",
        "  a_max = a1\n",
        "elif a1 < a2:\n",
        "  a_min = a1\n",
        "  a_max = a2\n",
        "else:\n",
        "  a_min = a2\n",
        "  a_max = a1\n",
        "print(\"Максимум: {}, минимум: {}\".format(a_max, a_min))\n",
        "\n",
        "\n",
        "# Удалите комментарий и допишите код\n",
        "\n",
        "# --------------\n",
        "# Пример вывода:\n",
        "#\n",
        "# Введите первое число: 1\n",
        "# Введите второе число: 2\n",
        "# Максимум: 2, минимум: 1\n",
        "\n",
        "# Введите первое число: 5\n",
        "# Введите второе число: 5\n",
        "# Максимум: 5, минимум: 5\n",
        "\n",
        "# Введите первое число: 100\n",
        "# Введите второе число: -1\n",
        "# Максимум: 100, минимум: -1"
      ]
    },
    {
      "cell_type": "code",
      "execution_count": null,
      "metadata": {
        "colab": {
          "base_uri": "https://localhost:8080/"
        },
        "id": "v9FW7kcHTNvM",
        "outputId": "4d0496fb-c83a-44c8-8689-d44c233a288c"
      },
      "outputs": [
        {
          "name": "stdout",
          "output_type": "stream",
          "text": [
            "a = 6\n",
            "b = 7\n",
            "d = 4\n",
            "Да\n"
          ]
        }
      ],
      "source": [
        "# Задание task_02_03.\n",
        "#\n",
        "# Выполнил: Чумаков Олег\n",
        "# Группа: ЦИБ-241\n",
        "# E-mail: ChumakovOA300@mgpu.ru\n",
        "\n",
        "\n",
        "a = int(input(\"a = \"))\n",
        "b = int(input(\"b = \"))\n",
        "d = int(input(\"d = \"))\n",
        "\n",
        "# Введенные числа должны быть положительными, если так - осуществляем\n",
        "# расчет, иначе выводим \"Проверьте ввод\"\n",
        "if a > 0 and b > 0 and d > 0:\n",
        "    fix = 1  # Зазор\n",
        "    if a + 1 > d and b + 1 > d:\n",
        "      print(\"Да\")\n",
        "    elif a + 1 < d and b + 1 < d:\n",
        "      print(\"Нет\")\n",
        "    else:\n",
        "      print(\"Нет\")\n",
        "    # Вывести \"Да\" или \"Нет\"\n",
        "    # Удалите комментарий и допишите код\n",
        "else:\n",
        "  print(\"Проверьте ввод\")\n",
        "    # Удалите комментарий и допишите код\n",
        "\n",
        "# --------------\n",
        "# Пример вывода:\n",
        "#\n",
        "# Ширина форточки: 5\n",
        "# Высота форточки: 6\n",
        "# Диаметр головы: 6\n",
        "# Нет\n",
        "\n",
        "# Ширина форточки: 6\n",
        "# Высота форточки: 7\n",
        "# Диаметр головы: 4\n",
        "# Да"
      ]
    },
    {
      "cell_type": "code",
      "execution_count": null,
      "metadata": {
        "colab": {
          "base_uri": "https://localhost:8080/"
        },
        "id": "dsMjiCu4Ufnj",
        "outputId": "a378387a-5a76-42bd-8e4e-034b403e511b"
      },
      "outputs": [
        {
          "name": "stdout",
          "output_type": "stream",
          "text": [
            "Введите текущий год: 2020\n",
            "Введите текущий месяц: 5\n",
            "Введите год рождения: 2000\n",
            "Введите месяц рождения: 5\n",
            "Число полных лет:  20\n"
          ]
        }
      ],
      "source": [
        "# Задание task_02_04.\n",
        "#\n",
        "# Выполнил: Чумаков Олег\n",
        "# Группа: ЦИБ-241\n",
        "# E-mail: ChumakovOA300@mgpu.ru\n",
        "\n",
        "\n",
        "\n",
        "year_today = int(input(\"Введите текущий год: \"))\n",
        "month_today = int(input(\"Введите текущий месяц: \"))\n",
        "\n",
        "year = int(input(\"Введите год рождения: \"))\n",
        "month = int(input(\"Введите месяц рождения: \"))\n",
        "\n",
        "# Считается, введенные значения находятся в допустимых пределах,и\n",
        "# что 'month_today' >= 'month' (проверять значения не нужно)\n",
        "# Результат необходимо записать в переменную 'age'\n",
        "\n",
        "if month_today > month:\n",
        "  age = year_today - year\n",
        "elif month_today < month:\n",
        "  age = year_today - year - 1\n",
        "else:\n",
        "  age = year_today - year\n",
        "\n",
        "print(\"Число полных лет: \", age)\n",
        "\n",
        "# --------------\n",
        "# Пример вывода:\n",
        "#\n",
        "# Введите текущий год: 2017\n",
        "# Введите текущий месяц: 5\n",
        "# Введите год рождения: 2000\n",
        "# Введите месяц рождения: 1\n",
        "# Число полных лет:  17\n",
        "#\n",
        "# Введите текущий год: 2015\n",
        "# Введите текущий месяц: 6\n",
        "# Введите год рождения: 2010\n",
        "# Введите месяц рождения: 8\n",
        "# Число полных лет:  4\n",
        "#\n",
        "# Введите текущий год: 2020\n",
        "# Введите текущий месяц: 5\n",
        "# Введите год рождения: 2000\n",
        "# Введите месяц рождения: 5\n",
        "# Число полных лет:  20"
      ]
    },
    {
      "cell_type": "code",
      "execution_count": null,
      "metadata": {
        "colab": {
          "base_uri": "https://localhost:8080/"
        },
        "id": "e-CfHG8IV5xx",
        "outputId": "db39a942-fa3f-4f26-8a0b-5d1d6f97c9c1"
      },
      "outputs": [
        {
          "name": "stdout",
          "output_type": "stream",
          "text": [
            "x = 5\n",
            "y = 7\n",
            "1-я четверть\n"
          ]
        }
      ],
      "source": [
        "# Задание task_02_05.\n",
        "#\n",
        "# Выполнил: Чумаков Олег\n",
        "# Группа: ЦИБ-241\n",
        "# E-mail: ChumakovOA300@mgpu.ru\n",
        "\n",
        "\n",
        "x = int(input(\"x = \"))\n",
        "y = int(input(\"y = \"))\n",
        "\n",
        "if x > 0 and y > 0:\n",
        "    print(\"1-я четверть\")\n",
        "elif x < 0 and y > 0:\n",
        "    print(\"2-я четверть\")\n",
        "elif x < 0 and y < 0:\n",
        "    print(\"3-я четверть\")\n",
        "else:\n",
        "    print(\"4-я четверть\")\n",
        "\n",
        "# Удалите комментарий и допишите код\n",
        "\n",
        "# --------------\n",
        "# Пример вывода:\n",
        "#\n",
        "# Введите координату x: 5\n",
        "# Введите координату y: 7\n",
        "# 1-я четверть"
      ]
    },
    {
      "cell_type": "code",
      "execution_count": null,
      "metadata": {
        "colab": {
          "base_uri": "https://localhost:8080/"
        },
        "id": "TwFWl1c8WhSE",
        "outputId": "04c4649e-7678-4d90-c5f0-52a5d840ab41"
      },
      "outputs": [
        {
          "name": "stdout",
          "output_type": "stream",
          "text": [
            "a = 1\n",
            "b = 3\n",
            "c = -4\n",
            "1.0 -4.0\n"
          ]
        }
      ],
      "source": [
        "# Задание task_02_06.\n",
        "#\n",
        "# Выполнил: Чумаков Олег\n",
        "# Группа: ЦИБ-241\n",
        "# E-mail: ChumakovOA300@mgpu.ru\n",
        "\n",
        "\n",
        "\n",
        "a = int(input(\"a = \"))\n",
        "b = int(input(\"b = \"))\n",
        "c = int(input(\"c = \"))\n",
        "\n",
        "# Расчет дискриминанта\n",
        "if a != 0:\n",
        "  D = b**2 - 4*a*c\n",
        "else:\n",
        "  print(\"Проверьте значение а\")\n",
        "\n",
        "# Вывод решения в зависимости от значения дискриминанта\n",
        "# При выводе значений оставьте 1 знак после запятой\n",
        "if D > 0:\n",
        "  x1 = (-b + D ** (1/2))/2*a\n",
        "  x2 = (-b - D ** (1/2))/2*a\n",
        "  print(round(x1, 2), round(x2, 2))\n",
        "elif D < 0:\n",
        "  print(\"Решений нет\")\n",
        "else:\n",
        "  x = -b / 2*a\n",
        "  print(round(x, 2))\n",
        "# --------------\n",
        "# Пример вывода:\n",
        "#\n",
        "# a = 1\n",
        "# b = 2\n",
        "# c = 3\n",
        "# Решений нет\n",
        "#\n",
        "# a = 1\n",
        "# b = 2\n",
        "# c = 1\n",
        "# x = -1.0\n",
        "#\n",
        "# a = 1\n",
        "# b = 3\n",
        "# c = -4\n",
        "# x1 = -4.0, x2 = 1.0"
      ]
    },
    {
      "cell_type": "code",
      "execution_count": null,
      "metadata": {
        "colab": {
          "base_uri": "https://localhost:8080/"
        },
        "id": "DhDy1BPKX90-",
        "outputId": "1eed6771-7f1e-4f81-835a-647a06d27bd5"
      },
      "outputs": [
        {
          "name": "stdout",
          "output_type": "stream",
          "text": [
            "Введите 0-е число 1\n",
            "Введите 1-е число 2\n",
            "Введите 2-е число 3\n",
            "Введите 3-е число 4\n",
            "Введите 4-е число 5\n",
            "Введите 5-е число 6\n",
            "Введите 6-е число 7\n",
            "Введите 7-е число 8\n",
            "Введите 8-е число 9\n",
            "Введите 9-е число 35\n",
            "Введите 10-е число 634637\n",
            "Введите 11-е число 0\n",
            "Сумма = 634717\n",
            "Количество = 11\n"
          ]
        }
      ],
      "source": [
        "# Задание task_02_07.\n",
        "#\n",
        "# Выполнил: Чумаков Олег\n",
        "# Группа: ЦИБ-241\n",
        "# E-mail: ChumakovOA300@mgpu.ru\n",
        "\n",
        "\n",
        "\n",
        "nums_sum = 0  # сумма\n",
        "nums_count = 0  # количество\n",
        "\n",
        "x = int(input(\"Введите {}-е число \".format(nums_count)))\n",
        "while x != 0:\n",
        "  nums_sum+=x\n",
        "  nums_count+=1\n",
        "  x = int(input(\"Введите {}-е число 2\".format(nums_count)))\n",
        "\n",
        "print(\"Сумма = {}\".format(nums_sum))\n",
        "print(\"Количество = {}\".format(nums_count))\n",
        "\n",
        "# --------------\n",
        "# Пример вывода:\n",
        "#\n",
        "# Введите 1-е число: 1\n",
        "# Введите 2-е число: 2\n",
        "# Введите 3-е число: 3\n",
        "# Введите 4-е число: 4\n",
        "# Введите 5-е число: 0\n",
        "# Сумма = 10\n",
        "# Количество = 4\n",
        "#\n",
        "# Введите 1-е число: 0\n",
        "# Сумма = 0\n",
        "# Количество = 0"
      ]
    },
    {
      "cell_type": "code",
      "execution_count": null,
      "metadata": {
        "colab": {
          "base_uri": "https://localhost:8080/"
        },
        "id": "CbHQi3V1ZwJb",
        "outputId": "444aab5e-c822-4712-eccd-72ff6603c435"
      },
      "outputs": [
        {
          "name": "stdout",
          "output_type": "stream",
          "text": [
            "0\n"
          ]
        }
      ],
      "source": [
        "# Задание task_02_08.\n",
        "#\n",
        "# Выполнил: Чумаков Олег\n",
        "# Группа: ЦИБ-241\n",
        "# E-mail: ChumakovOA300@mgpu.ru\n",
        "\n",
        "\n",
        "\n",
        "n = int(input())\n",
        "\n",
        "for i in range(0, n, 5):\n",
        "  if i <= n:\n",
        "    print(i)\n",
        "\n",
        "# --------------\n",
        "# Пример вывода:\n",
        "#\n",
        "# n = 0\n",
        "# 0\n",
        "#\n",
        "# n = 10\n",
        "# 0\n",
        "# 5\n",
        "# 10\n",
        "#\n",
        "# n = 12\n",
        "# 0\n",
        "# 5\n",
        "# 10"
      ]
    },
    {
      "cell_type": "code",
      "execution_count": null,
      "metadata": {
        "colab": {
          "base_uri": "https://localhost:8080/"
        },
        "id": "bKxQpPL_asem",
        "outputId": "f2f442f5-ebae-4f54-cf48-915973b44335"
      },
      "outputs": [
        {
          "name": "stdout",
          "output_type": "stream",
          "text": [
            "a = 10\n",
            "n = 12367\n"
          ]
        }
      ],
      "source": [
        "# Задание task_02_09.\n",
        "#\n",
        "# Выполнил: Чумаков Олег\n",
        "# Группа: ЦИБ-241\n",
        "# E-mail: ChumakovOA300@mgpu.ru\n",
        "\n",
        "\n",
        "a = float(input(\"a = \"))\n",
        "\n",
        "n = 0\n",
        "x_sum = 0\n",
        "\n",
        "while x_sum <= a:\n",
        "  n += 1\n",
        "  x_sum += 1/n\n",
        "print(\"n = {}\".format(n))\n",
        "\n",
        "# --------------\n",
        "# Пример вывода:\n",
        "#\n",
        "# a = 1.5\n",
        "# n = 3\n",
        "#\n",
        "# a = 2\n",
        "# n = 4"
      ]
    },
    {
      "cell_type": "code",
      "execution_count": null,
      "metadata": {
        "colab": {
          "base_uri": "https://localhost:8080/"
        },
        "id": "jp_g5UTVcxKz",
        "outputId": "60e5b5ba-5f88-4a38-f515-cb13016e7fcd"
      },
      "outputs": [
        {
          "name": "stdout",
          "output_type": "stream",
          "text": [
            "n = 12345\n",
            "Сумма = 5\n",
            "Количество = 1\n",
            "Сумма = 9\n",
            "Количество = 2\n",
            "Сумма = 12\n",
            "Количество = 3\n",
            "Сумма = 14\n",
            "Количество = 4\n",
            "Сумма = 15\n",
            "Количество = 5\n"
          ]
        }
      ],
      "source": [
        "# Задание task_02_10.\n",
        "#\n",
        "# Выполнил: Чумаков Олег\n",
        "# Группа: ЦИБ-241\n",
        "# E-mail: ChumakovOA300@mgpu.ru\n",
        "\n",
        "\n",
        "n = int(input(\"n = \"))\n",
        "\n",
        "n_sum = 0\n",
        "n_count = 0\n",
        "\n",
        "while n > 0:\n",
        "      d = n % 10\n",
        "      n_sum += d\n",
        "      n_count += 1\n",
        "      n = n // 10\n",
        "      print(\"Сумма = {}\".format(n_sum))\n",
        "      print(\"Количество = {}\".format(n_count))\n",
        "\n",
        "# Удалите комментарий и допишите код\n",
        "\n",
        "# --------------\n",
        "# Пример вывода:\n",
        "#\n",
        "# n = 12345\n",
        "# Сумма = 15\n",
        "# Количество = 5"
      ]
    },
    {
      "cell_type": "code",
      "execution_count": null,
      "metadata": {
        "colab": {
          "base_uri": "https://localhost:8080/"
        },
        "id": "HUW9ulK8fKJC",
        "outputId": "2a63c79d-203f-488c-c40a-98294c4d12a2"
      },
      "outputs": [
        {
          "name": "stdout",
          "output_type": "stream",
          "text": [
            "start = 100\n",
            "k = 7\n",
            "s = 9\n",
            "117 207 297 387 477 567 657 747 837 927 \n"
          ]
        }
      ],
      "source": [
        "# Задание task_02_11.\n",
        "#\n",
        "# Выполнил: Чумаков Олег\n",
        "# Группа: ЦИБ-241\n",
        "# E-mail: ChumakovOA300@mgpu.ru\n",
        "\n",
        "\n",
        "\n",
        "start = int(input(\"start = \"))\n",
        "k = int(input(\"k = \"))\n",
        "s = int(input(\"s = \"))\n",
        "n_count = 0\n",
        "\n",
        "while n_count < 10:\n",
        "    if start % 10 == k and start % s == 0:\n",
        "        print(start, end=' ')\n",
        "        n_count += 1\n",
        "    start = start + 1\n",
        "\n",
        "print()\n",
        "# --------------\n",
        "# Пример вывода:\n",
        "#\n",
        "# start = 100\n",
        "# k = 7\n",
        "# s = 9\n",
        "# 117 207 297 387 477 567 657 747 837 927"
      ]
    },
    {
      "cell_type": "code",
      "execution_count": null,
      "metadata": {
        "colab": {
          "base_uri": "https://localhost:8080/"
        },
        "id": "4q8KCkpmi4IC",
        "outputId": "e196d357-d091-4f37-ec8a-8ec9cb2f0a81"
      },
      "outputs": [
        {
          "name": "stdout",
          "output_type": "stream",
          "text": [
            "a = 1\n",
            "b = 3\n",
            "1 2 3 \n",
            "3\n",
            "2\n",
            "1\n"
          ]
        }
      ],
      "source": [
        "# Задание task_02_12.\n",
        "#\n",
        "# Выполнил: Чумаков Олег\n",
        "# Группа: ЦИБ-241\n",
        "# E-mail: ChumakovOA300@mgpu.ru\n",
        "\n",
        "a = int(input(\"a = \"))\n",
        "b = int(input(\"b = \"))\n",
        "for i in range(a, b+1) or range(b, a+1):\n",
        "  print(i, end=\" \")\n",
        "else:\n",
        "  print()\n",
        "if a < b:\n",
        "  i1 = list(range(a, b+1))\n",
        "  i1_1 = sorted(i1, reverse=True)\n",
        "for n in i1_1:\n",
        "  print(n)\n",
        "else:\n",
        "  i2 = list(range(b, a+1))\n",
        "  i2_2 = sorted(i2, reverse=True)\n",
        "for n in i2_2:\n",
        "  print(n)\n",
        "\n",
        "\n",
        "# --------------\n",
        "# Пример вывода:\n",
        "#\n",
        "# a = 1\n",
        "# b = 5\n",
        "# 1 2 3 4 5\n",
        "# 5\n",
        "# 4\n",
        "# 3\n",
        "# 2\n",
        "# 1"
      ]
    },
    {
      "cell_type": "code",
      "execution_count": null,
      "metadata": {
        "colab": {
          "base_uri": "https://localhost:8080/"
        },
        "id": "nAcBcqxeoPN0",
        "outputId": "308067fd-8db1-48f1-8d7b-61f109b5c022"
      },
      "outputs": [
        {
          "name": "stdout",
          "output_type": "stream",
          "text": [
            "a = 1\n",
            "b = 5\n",
            "Сумма = 15\n",
            "Произведение = 120\n",
            "Среднее арифметическое = 3.0\n",
            "Среднее геометрическое нечетных чисел = 2.61\n"
          ]
        }
      ],
      "source": [
        "# Программирование на языке высокого уровня (Python).\n",
        "# https://www.yuripetrov.ru/edu/python\n",
        "# Задание task_02_13.\n",
        "#\n",
        "# Выполнил: Чумаков Олег\n",
        "# Группа: ЦИБ-241\n",
        "# E-mail: ChumakovOA300@mgpu.ru\n",
        "\n",
        "import math\n",
        "a = int(input(\"a = \"))\n",
        "b = int(input(\"b = \"))\n",
        "n = range(a, b+1)\n",
        "n_sum = 0\n",
        "n_mult = 1\n",
        "\n",
        "\n",
        "if a <= b:\n",
        "  if a>0 and b>0 and a<=b:\n",
        "    for i in n:\n",
        "      n_sum += i\n",
        "      n_mult = n_mult * i\n",
        "  n_avg = round(sum(n)/len(n), 2)\n",
        "  n_avg_geom = round(math.prod(n)**(1/len(n)), 2)\n",
        "else:\n",
        "  print(\"Проверьте значения a и b\")\n",
        "\n",
        "print(\"Сумма =\", n_sum)\n",
        "print(\"Произведение =\", n_mult)\n",
        "print(\"Среднее арифметическое = {}\".format(n_avg))\n",
        "print(\"Среднее геометрическое нечетных чисел = {}\".format(n_avg_geom))\n",
        "\n",
        "# --------------\n",
        "# Пример вывода:\n",
        "#\n",
        "# a = 1\n",
        "# b = 5\n",
        "# Сумма = 15\n",
        "# Произведение = 120\n",
        "# Среднее арифметическое = 3.00\n",
        "# Среднее геометрическое нечетных чисел = 2.47"
      ]
    },
    {
      "cell_type": "code",
      "execution_count": null,
      "metadata": {
        "colab": {
          "base_uri": "https://localhost:8080/"
        },
        "id": "5fCfHlaWsINO",
        "outputId": "e8db0f88-cd81-4195-99de-59429e5fdc25"
      },
      "outputs": [
        {
          "name": "stdout",
          "output_type": "stream",
          "text": [
            "Пробег за 1-й день (км.) = 5\n",
            "На сколько увеличивает пробег (%) = 10\n",
            "Пробег за 2-й день: 5.5 км.\n",
            "Пробег за 3-й день: 6.0 км.\n",
            "Пробег за 4-й день: 6.6 км.\n",
            "Пробег за 5-й день: 7.3 км.\n",
            "Пробег за 6-й день: 8.0 км.\n",
            "Пробег за 7-й день: 8.8 км.\n",
            "Пробег за 8-й день: 9.7 км.\n",
            "Пробег за 9-й день: 10.7 км.\n",
            "Пробег за 10-й день: 11.8 км.\n",
            "Суммарный пробег: 79.4 км.\n"
          ]
        }
      ],
      "source": [
        "# Задание task_02_14.\n",
        "#\n",
        "# Выполнил: Чумаков Олег\n",
        "# Группа: ЦИБ-241\n",
        "# E-mail: ChumakovOA300@mgpu.ru\n",
        "\n",
        "\n",
        "s = float(input(\"Пробег за 1-й день (км.) = \"))\n",
        "p = float(input(\"На сколько увеличивает пробег (%) = \"))\n",
        "t = 1\n",
        "total = s\n",
        "for i in range(2, 11):\n",
        "  t += 1\n",
        "  s = round((s + (s / 100) * p), 1)\n",
        "  total += s\n",
        "  print(\"Пробег за {}-й день: {} км.\".format(t, s))\n",
        "  total = round(total, 1)\n",
        "print(\"Суммарный пробег: {} км.\".format(total))\n",
        "\n",
        "# --------------\n",
        "# Пример вывода:\n",
        "#\n",
        "# Пробег за 1-й день (км.) = 5\n",
        "# На сколько увеличивает пробег (%) = 10\n",
        "# Пробег за 2-й день: 5.5 км.\n",
        "# Пробег за 3-й день: 6.1 км.\n",
        "# Пробег за 4-й день: 6.7 км.\n",
        "# Пробег за 5-й день: 7.3 км.\n",
        "# Пробег за 6-й день: 8.1 км.\n",
        "# Пробег за 7-й день: 8.9 км.\n",
        "# Пробег за 8-й день: 9.7 км.\n",
        "# Пробег за 9-й день: 10.7 км.\n",
        "# Пробег за 10-й день: 11.8 км.\n",
        "# Суммарный пробег: 79.7 км."
      ]
    },
    {
      "cell_type": "code",
      "execution_count": null,
      "metadata": {
        "colab": {
          "base_uri": "https://localhost:8080/"
        },
        "id": "n3l6eCWk3zHp",
        "outputId": "b474f41d-8954-4ece-c0be-db4b5f403aa3"
      },
      "outputs": [
        {
          "name": "stdout",
          "output_type": "stream",
          "text": [
            "Грузоподъемность грузовика (кг.) = 10\n",
            "Количество предметов = 2\n",
            "Масса 1-го предмета (кг.) = 3\n",
            "Масса 2-го предмета (кг.) = 3\n",
            "Грузоподъемность грузовика (кг.) = 10\n",
            "Количество предметов = 2\n",
            "Масса 1-го предмета (кг.) =  3\n",
            "Масса 2-го предмета (кг.) =  3\n",
            "Да\n"
          ]
        }
      ],
      "source": [
        "# Задание task_02_15.\n",
        "#\n",
        "# Выполнил: Чумаков Олег\n",
        "# Группа: ЦИБ-241\n",
        "# E-mail: ChumakovOA300@mgpu.ru\n",
        "\n",
        "\n",
        "\n",
        "p = int(input(\"Грузоподъемность грузовика (кг.) = \"))\n",
        "n = int(input(\"Количество предметов = \"))\n",
        "\n",
        "total = 0\n",
        "for i in range(1, n+1):\n",
        "    c = int(input(f\"Масса {i}-го предмета (кг.) = \"))\n",
        "    total += c\n",
        "\n",
        "print(\"Грузоподъемность грузовика (кг.) = {}\".format(p))\n",
        "print(\"Количество предметов = {}\".format(n))\n",
        "\n",
        "if n >= 1:\n",
        "    print(\"Масса 1-го предмета (кг.) = \", c)\n",
        "if n >= 2:\n",
        "    print(\"Масса 2-го предмета (кг.) = \", c)\n",
        "\n",
        "if total <= p:\n",
        "    print(\"Да\")\n",
        "else:\n",
        "    print(\"Нет\")\n",
        "\n",
        "# --------------\n",
        "# Пример вывода:\n",
        "#\n",
        "# Грузоподъемность грузовика (кг.) = 10\n",
        "# Количество предметов = 2\n",
        "# Масса 1-го предмета (кг.) = 3\n",
        "# Масса 2-го предмета (кг.) = 3\n",
        "# Да"
      ]
    },
    {
      "cell_type": "code",
      "execution_count": null,
      "metadata": {
        "colab": {
          "base_uri": "https://localhost:8080/"
        },
        "id": "CoNWXM2-OR_y",
        "outputId": "4a91030c-da6a-4073-d4d7-f04385ca1eff"
      },
      "outputs": [
        {
          "name": "stdout",
          "output_type": "stream",
          "text": [
            "Количество районов: 3\n",
            "Площадь 1-го района (га): 4\n",
            "Урожайность в 1-м районе (ц/га): 2\n",
            "Площадь 2-го района (га): 7\n",
            "Урожайность в 2-м районе (ц/га): 3\n",
            "Площадь 3-го района (га): 9\n",
            "Урожайность в 3-м районе (ц/га): 4\n",
            "Собрано пшеницы: 65.0 ц\n"
          ]
        }
      ],
      "source": [
        "# Задание task_02_16.\n",
        "#\n",
        "# Выполнил: Чумаков Олег\n",
        "# Группа: ЦИБ-241\n",
        "# E-mail: ChumakovOA300@mgpu.ru\n",
        "\n",
        "\n",
        "\n",
        "n = int(input(\"Количество районов: \"))\n",
        "total = 0\n",
        "for i in range(1, n + 1):\n",
        "    a = float(input(f\"Площадь {i}-го района (га): \"))\n",
        "    b = float(input(f\"Урожайность в {i}-м районе (ц/га): \"))\n",
        "    total += a * b\n",
        "total = round(total, 1)\n",
        "print(f\"Собрано пшеницы: {total} ц\")\n",
        "\n",
        "\n",
        "# --------------\n",
        "# Пример вывода:\n",
        "#\n",
        "# Количество районов = 3\n",
        "# Площадь 1-го района (га) = 4\n",
        "# Урожайность в 1-м районе (ц/га.) = 2\n",
        "# Площадь 2-го района (га) = 7\n",
        "# Урожайность в 2-м районе (ц/га.) = 3\n",
        "# Площадь 3-го района (га) = 9\n",
        "# Урожайность в 3-м районе (ц/га.) = 4\n",
        "# Собрано пшеницы: 65.0 ц."
      ]
    },
    {
      "cell_type": "code",
      "execution_count": null,
      "metadata": {
        "colab": {
          "base_uri": "https://localhost:8080/"
        },
        "id": "V3UvTFLKQrky",
        "outputId": "5f945578-2dfd-4c8f-b6de-4aa2076639bf"
      },
      "outputs": [
        {
          "name": "stdout",
          "output_type": "stream",
          "text": [
            "Введите 1-е число: 1\n",
            "Введите 2-е число: 2\n",
            "Введите 3-е число: 3\n",
            "Введите 4-е число: 4\n",
            "Введите 5-е число: 0\n",
            "Сумма =  10\n",
            "Количество =  4\n"
          ]
        }
      ],
      "source": [
        "# Задание task_02_17.\n",
        "#\n",
        "# Выполнил: Чумаков Олег\n",
        "# Группа: ЦИБ-241\n",
        "# E-mail: ChumakovOA300@mgpu.ru\n",
        "\n",
        "\n",
        "\n",
        "nums_sum = 0\n",
        "nums_count = 0\n",
        "while True:\n",
        "    a = int(input(\"Введите {}-е число: \".format(nums_count + 1)))\n",
        "    if a == 0:\n",
        "        break\n",
        "    nums_count += 1\n",
        "    nums_sum += a\n",
        "print(\"Сумма = \", nums_sum)\n",
        "print(\"Количество = \", nums_count)\n",
        "\n",
        "\n",
        "\n",
        "# --------------\n",
        "# Пример вывода:\n",
        "#\n",
        "# Введите 1-е число: 1\n",
        "# Введите 2-е число: 2\n",
        "# Введите 3-е число: 3\n",
        "# Введите 4-е число: 4\n",
        "# Введите 5-е число: 0\n",
        "# Сумма = 10\n",
        "# Количество = 4\n",
        "#\n",
        "# Введите 1-е число: 0\n",
        "# Сумма = 0\n",
        "# Количество = 0"
      ]
    },
    {
      "cell_type": "code",
      "execution_count": null,
      "metadata": {
        "colab": {
          "base_uri": "https://localhost:8080/"
        },
        "id": "oLXN_-ahXo-Y",
        "outputId": "e0d4f418-13be-49ab-b68a-52390656fe9a"
      },
      "outputs": [
        {
          "name": "stdout",
          "output_type": "stream",
          "text": [
            "Программирование\n",
            "Кол-во букв в предложении: гласных - 7, согласных - 9\n"
          ]
        }
      ],
      "source": [
        "\n",
        "# Задание task_02_18.\n",
        "#\n",
        "# Выполнил: Чумаков Олег\n",
        "# Группа: ЦИБ-241\n",
        "# E-mail: ChumakovOA300@mgpu.ru\n",
        "\n",
        "\n",
        "sentence = str(input())\n",
        "gl = \"аеёиоуыэюяАЕЁИОУЫЭЮЯ\"\n",
        "sogl = \"бвгджзйклмнпрстфхцчшщБВГДЖЗЙКЛМНПРСТФХЦЧШЩ\"\n",
        "\n",
        "count_gl = 0  # Кол-во гласных\n",
        "count_sogl = 0  # Кол-во согласных\n",
        "for i in sentence:\n",
        "  if i == ' ':\n",
        "    continue\n",
        "  if i in gl:\n",
        "    count_gl+=1\n",
        "  if i in sogl:\n",
        "    count_sogl+=1\n",
        "print(\"Кол-во букв в предложении: гласных - {}, согласных - {}\".format(count_gl,count_sogl))\n",
        "\n",
        "\n",
        "# Удалите комментарий и допишите код\n",
        "\n",
        "# --------------\n",
        "# Пример вывода:\n",
        "#\n",
        "# Введите предложение: Программирование\n",
        "# Кол-во букв в предложении: гласных - 7, согласных - 9"
      ]
    },
    {
      "cell_type": "code",
      "source": [
        "# Задание task_02_19.\n",
        "#\n",
        "# Выполнил: Чумаков Олег\n",
        "# Группа: ЦИБ-241\n",
        "# E-mail: ChumakovOA300@mgpu.ru\n",
        "\n",
        "a = int(input('a = '))\n",
        "b = int(input('b = '))\n",
        "c = int(input('c = '))\n",
        "\n",
        "for i in range(a,b+1):\n",
        "    if i % c == 0:\n",
        "        print(i,end=\" \")\n",
        "\n",
        "\n",
        "# Удалите комментарий и допишите код\n",
        "\n",
        "# --------------\n",
        "# Пример вывода:\n",
        "#\n",
        "# a = 1\n",
        "# b = 10\n",
        "# c = 2"
      ],
      "metadata": {
        "id": "s5Arsbinh1g3"
      },
      "execution_count": null,
      "outputs": []
    },
    {
      "cell_type": "code",
      "execution_count": null,
      "metadata": {
        "id": "41AIP_rgdduv",
        "colab": {
          "base_uri": "https://localhost:8080/"
        },
        "outputId": "b98b229a-d179-40c6-8a1f-a498e1a1fd50"
      },
      "outputs": [
        {
          "output_type": "stream",
          "name": "stdout",
          "text": [
            "n = 3\n",
            "102 111 120 201 210 300 "
          ]
        }
      ],
      "source": [
        "# Задание task_02_20.\n",
        "#\n",
        "# Выполнил: Чумаков Олег\n",
        "# Группа: ЦИБ-241\n",
        "# E-mail: ChumakovOA300@mgpu.ru\n",
        "\n",
        "n = int(input('n = '))\n",
        "\n",
        "for i in range(100,1000):\n",
        "    third = i % 10\n",
        "    second = i // 10 % 10\n",
        "    first = i // 100\n",
        "    if third + second + first == n:\n",
        "      print(i,end = \" \")\n",
        "# --------------\n",
        "# Пример вывода:\n",
        "#\n",
        "# n = 3\n",
        "# 102 111 120 201 210 300"
      ]
    },
    {
      "cell_type": "code",
      "source": [
        "# Задание task_02_21.\n",
        "#\n",
        "# Выполнил: Чумаков Олег\n",
        "# Группа: ЦИБ-241\n",
        "# E-mail: ChumakovOA300@mgpu.ru\n",
        "\n",
        "\n",
        "n = int(input(\"n = \"))\n",
        "\n",
        "r_sr_m = 0.0\n",
        "r_sr_d = 0.0\n",
        "count = 0\n",
        "r_sr_mc = 0\n",
        "r_sr_dc = 0\n",
        "\n",
        "for i in range(n):\n",
        "    count+=1\n",
        "    a = int(input(\"Рост {}-го ученика = \".format(count)))\n",
        "    if a > 0:\n",
        "      r_sr_dc +=1\n",
        "      r_sr_d += a\n",
        "    if a < 0:\n",
        "      r_sr_mc += 1\n",
        "      r_sr_m += a\n",
        "r_sr_m = round(abs(r_sr_m/ r_sr_mc),1)\n",
        "r_sr_d = round((r_sr_d/r_sr_dc),1)\n",
        "\n",
        "print(\"Средний рост мальчиков: {:.1f}\".format(r_sr_m))\n",
        "print(\"Средний рост девочек: {:.1f}\".format(r_sr_d))\n",
        "\n",
        "\n",
        "# --------------\n",
        "# Пример вывода:\n",
        "#\n",
        "# n = 5\n",
        "# Рост 1-го ученика = 150\n",
        "# Рост 2-го ученика = -150\n",
        "# Рост 3-го ученика = 160\n",
        "# Рост 4-го ученика = 170\n",
        "# Рост 5-го ученика = 180\n",
        "# Средний рост мальчиков: 150.0\n",
        "# Средний рост девочек: 165.0"
      ],
      "metadata": {
        "colab": {
          "base_uri": "https://localhost:8080/"
        },
        "id": "5ICTB96Eh4p4",
        "outputId": "02eb1c30-b6fc-47b4-b96a-20491c308725"
      },
      "execution_count": 1,
      "outputs": [
        {
          "output_type": "stream",
          "name": "stdout",
          "text": [
            "n = 5\n",
            "Рост 1-го ученика = 150\n",
            "Рост 2-го ученика = -150\n",
            "Рост 3-го ученика = 160\n",
            "Рост 4-го ученика = 170\n",
            "Рост 5-го ученика = 180\n",
            "Средний рост мальчиков: 150.0\n",
            "Средний рост девочек: 165.0\n"
          ]
        }
      ]
    },
    {
      "cell_type": "code",
      "source": [
        "# Программирование на языке высокого уровня (Python).\n",
        "# https://www.yuripetrov.ru/edu/python\n",
        "# Задание task_02_22.\n",
        "#\n",
        "# Выполнил: Чумаков Олег\n",
        "# Группа: ЦИБ-241\n",
        "# E-mail: ChumakovOA300@mgpu.ru\n",
        "\n",
        "\n",
        "n = int(input(\"n = \"))\n",
        "count = 0\n",
        "x = []\n",
        "for i in range(n):\n",
        "    count+=1\n",
        "    a = float(input(\"{}-е число = \".format(count)))\n",
        "    x.append(a)\n",
        "a_max = round(max(x),2)\n",
        "a_min = round(min(x),2)\n",
        "print(\"Максимум: {:.2f}\".format(a_max))\n",
        "print(\"Минимум: {:.2f}\".format(a_min))\n",
        "\n",
        "\n",
        "# --------------\n",
        "# Пример вывода:\n",
        "#\n",
        "# n = 4\n",
        "# 1-е число = 6.2\n",
        "# 2-е число = 3.8\n",
        "# 3-е число = 1.1\n",
        "# 4-е число = 9.66\n",
        "# Максимум: 9.66\n",
        "# Минимум: 1.10"
      ],
      "metadata": {
        "colab": {
          "base_uri": "https://localhost:8080/",
          "height": 373
        },
        "id": "3RgR32iqh41G",
        "outputId": "8940559d-711f-4c1b-aaba-deed5cab26aa"
      },
      "execution_count": 3,
      "outputs": [
        {
          "name": "stdout",
          "output_type": "stream",
          "text": [
            "n = 4\n"
          ]
        },
        {
          "output_type": "error",
          "ename": "KeyboardInterrupt",
          "evalue": "Interrupted by user",
          "traceback": [
            "\u001b[0;31m---------------------------------------------------------------------------\u001b[0m",
            "\u001b[0;31mKeyboardInterrupt\u001b[0m                         Traceback (most recent call last)",
            "\u001b[0;32m<ipython-input-3-99ba867e3d2c>\u001b[0m in \u001b[0;36m<cell line: 0>\u001b[0;34m()\u001b[0m\n\u001b[1;32m     13\u001b[0m \u001b[0;32mfor\u001b[0m \u001b[0mi\u001b[0m \u001b[0;32min\u001b[0m \u001b[0mrange\u001b[0m\u001b[0;34m(\u001b[0m\u001b[0mn\u001b[0m\u001b[0;34m)\u001b[0m\u001b[0;34m:\u001b[0m\u001b[0;34m\u001b[0m\u001b[0;34m\u001b[0m\u001b[0m\n\u001b[1;32m     14\u001b[0m     \u001b[0mcount\u001b[0m\u001b[0;34m+=\u001b[0m\u001b[0;36m1\u001b[0m\u001b[0;34m\u001b[0m\u001b[0;34m\u001b[0m\u001b[0m\n\u001b[0;32m---> 15\u001b[0;31m     \u001b[0ma\u001b[0m \u001b[0;34m=\u001b[0m \u001b[0mfloat\u001b[0m\u001b[0;34m(\u001b[0m\u001b[0minput\u001b[0m\u001b[0;34m(\u001b[0m\u001b[0;34m\"{}-е число = \"\u001b[0m\u001b[0;34m.\u001b[0m\u001b[0mformat\u001b[0m\u001b[0;34m(\u001b[0m\u001b[0mcount\u001b[0m\u001b[0;34m)\u001b[0m\u001b[0;34m)\u001b[0m\u001b[0;34m)\u001b[0m\u001b[0;34m\u001b[0m\u001b[0;34m\u001b[0m\u001b[0m\n\u001b[0m\u001b[1;32m     16\u001b[0m     \u001b[0mx\u001b[0m\u001b[0;34m.\u001b[0m\u001b[0mappend\u001b[0m\u001b[0;34m(\u001b[0m\u001b[0ma\u001b[0m\u001b[0;34m)\u001b[0m\u001b[0;34m\u001b[0m\u001b[0;34m\u001b[0m\u001b[0m\n\u001b[1;32m     17\u001b[0m \u001b[0ma_max\u001b[0m \u001b[0;34m=\u001b[0m \u001b[0mround\u001b[0m\u001b[0;34m(\u001b[0m\u001b[0mmax\u001b[0m\u001b[0;34m(\u001b[0m\u001b[0mx\u001b[0m\u001b[0;34m)\u001b[0m\u001b[0;34m,\u001b[0m\u001b[0;36m2\u001b[0m\u001b[0;34m)\u001b[0m\u001b[0;34m\u001b[0m\u001b[0;34m\u001b[0m\u001b[0m\n",
            "\u001b[0;32m/usr/local/lib/python3.11/dist-packages/ipykernel/kernelbase.py\u001b[0m in \u001b[0;36mraw_input\u001b[0;34m(self, prompt)\u001b[0m\n\u001b[1;32m   1175\u001b[0m                 \u001b[0;34m\"raw_input was called, but this frontend does not support input requests.\"\u001b[0m\u001b[0;34m\u001b[0m\u001b[0;34m\u001b[0m\u001b[0m\n\u001b[1;32m   1176\u001b[0m             )\n\u001b[0;32m-> 1177\u001b[0;31m         return self._input_request(\n\u001b[0m\u001b[1;32m   1178\u001b[0m             \u001b[0mstr\u001b[0m\u001b[0;34m(\u001b[0m\u001b[0mprompt\u001b[0m\u001b[0;34m)\u001b[0m\u001b[0;34m,\u001b[0m\u001b[0;34m\u001b[0m\u001b[0;34m\u001b[0m\u001b[0m\n\u001b[1;32m   1179\u001b[0m             \u001b[0mself\u001b[0m\u001b[0;34m.\u001b[0m\u001b[0m_parent_ident\u001b[0m\u001b[0;34m[\u001b[0m\u001b[0;34m\"shell\"\u001b[0m\u001b[0;34m]\u001b[0m\u001b[0;34m,\u001b[0m\u001b[0;34m\u001b[0m\u001b[0;34m\u001b[0m\u001b[0m\n",
            "\u001b[0;32m/usr/local/lib/python3.11/dist-packages/ipykernel/kernelbase.py\u001b[0m in \u001b[0;36m_input_request\u001b[0;34m(self, prompt, ident, parent, password)\u001b[0m\n\u001b[1;32m   1217\u001b[0m             \u001b[0;32mexcept\u001b[0m \u001b[0mKeyboardInterrupt\u001b[0m\u001b[0;34m:\u001b[0m\u001b[0;34m\u001b[0m\u001b[0;34m\u001b[0m\u001b[0m\n\u001b[1;32m   1218\u001b[0m                 \u001b[0;31m# re-raise KeyboardInterrupt, to truncate traceback\u001b[0m\u001b[0;34m\u001b[0m\u001b[0;34m\u001b[0m\u001b[0m\n\u001b[0;32m-> 1219\u001b[0;31m                 \u001b[0;32mraise\u001b[0m \u001b[0mKeyboardInterrupt\u001b[0m\u001b[0;34m(\u001b[0m\u001b[0;34m\"Interrupted by user\"\u001b[0m\u001b[0;34m)\u001b[0m \u001b[0;32mfrom\u001b[0m \u001b[0;32mNone\u001b[0m\u001b[0;34m\u001b[0m\u001b[0;34m\u001b[0m\u001b[0m\n\u001b[0m\u001b[1;32m   1220\u001b[0m             \u001b[0;32mexcept\u001b[0m \u001b[0mException\u001b[0m\u001b[0;34m:\u001b[0m\u001b[0;34m\u001b[0m\u001b[0;34m\u001b[0m\u001b[0m\n\u001b[1;32m   1221\u001b[0m                 \u001b[0mself\u001b[0m\u001b[0;34m.\u001b[0m\u001b[0mlog\u001b[0m\u001b[0;34m.\u001b[0m\u001b[0mwarning\u001b[0m\u001b[0;34m(\u001b[0m\u001b[0;34m\"Invalid Message:\"\u001b[0m\u001b[0;34m,\u001b[0m \u001b[0mexc_info\u001b[0m\u001b[0;34m=\u001b[0m\u001b[0;32mTrue\u001b[0m\u001b[0;34m)\u001b[0m\u001b[0;34m\u001b[0m\u001b[0;34m\u001b[0m\u001b[0m\n",
            "\u001b[0;31mKeyboardInterrupt\u001b[0m: Interrupted by user"
          ]
        }
      ]
    },
    {
      "cell_type": "code",
      "source": [
        "# Задание task_02_23.\n",
        "#\n",
        "# Выполнил: Чумаков Олег\n",
        "# Группа: ЦИБ-241\n",
        "# E-mail: ChumakovOA300@mgpu.ru\n",
        "\n",
        "\n",
        "n = int(input('n = '))\n",
        "a = 0\n",
        "b = 1\n",
        "while b < n:\n",
        "  a = b\n",
        "  b = a + b\n",
        "if b == n or n == 0 or n == 1:\n",
        "  print('Является')\n",
        "else:\n",
        "  print('Не является')\n",
        "\n",
        "\n",
        "# --------------\n",
        "# Пример вывода:\n",
        "#\n",
        "# n = 7\n",
        "# Не является\n",
        "#\n",
        "# n = 8\n",
        "# Является"
      ],
      "metadata": {
        "colab": {
          "base_uri": "https://localhost:8080/"
        },
        "id": "5iBsXU_Ah5Be",
        "outputId": "35328bb6-ad94-434c-d984-c389bf72e27b"
      },
      "execution_count": 5,
      "outputs": [
        {
          "output_type": "stream",
          "name": "stdout",
          "text": [
            "n = 8\n",
            "Является\n"
          ]
        }
      ]
    },
    {
      "cell_type": "code",
      "source": [
        "# Задание task_02_24.\n",
        "#\n",
        "# Выполнил: Чумаков Олег\n",
        "# Группа: ЦИБ-241\n",
        "# E-mail: ChumakovOA300@mgpu.ru\n",
        "\n",
        "# -1 означает, что последовательность упорядочена по возрастанию\n",
        "# Если это не так, 'index' меняется в цикле на индекс элемента,\n",
        "# нарушающего порядок\n",
        "n = int(input())\n",
        "fst = float(input(\"1-е число = \"))\n",
        "vz = True\n",
        "index = -1\n",
        "for i in range(1, n):\n",
        "    t = float(input(f\"{i+1}-е число = \"))\n",
        "    if t <= fst:\n",
        "        vz = False\n",
        "        index = i\n",
        "        break\n",
        "    fst = t\n",
        "if vz:\n",
        "    print(\"Является\")\n",
        "else:\n",
        "    print(index)\n",
        "# --------------\n",
        "# Пример вывода:\n",
        "#\n",
        "# n = 4\n",
        "# 1-е число = 2\n",
        "# 2-е число = 4.6\n",
        "# 3-е число = 6\n",
        "# 4-е число = 8.3\n",
        "# Является\n",
        "#\n",
        "# n = 3\n",
        "# 1-е число = 3\n",
        "# 2-е число = 3\n",
        "# 2"
      ],
      "metadata": {
        "colab": {
          "base_uri": "https://localhost:8080/"
        },
        "id": "eRmU5SE8h5NJ",
        "outputId": "6fbfff0b-e26b-4a63-f69a-1b163bb82998"
      },
      "execution_count": 28,
      "outputs": [
        {
          "output_type": "stream",
          "name": "stdout",
          "text": [
            "3\n",
            "1-е число = 3\n",
            "2-е число = 3\n",
            "1\n"
          ]
        }
      ]
    },
    {
      "cell_type": "code",
      "source": [
        "# Задание task_02_25.\n",
        "#\n",
        "# Выполнил: Чумаков Олег\n",
        "# Группа: ЦИБ-241\n",
        "# E-mail: ChumakovOA300@mgpu.ru\n",
        "\n",
        "n = int(input(\"n = \"))\n",
        "\n",
        "for i in range(1, n + 1):\n",
        "    for t in range(1, n + 1):\n",
        "        print(f\"{i} × {t} = {i * t:2}\", end=\"  \")\n",
        "    print()\n",
        "\n",
        "# --------------\n",
        "# Пример вывода:\n",
        "#\n",
        "# n = 5\n",
        "# 1 * 1 =  1  1 * 2 =  2  1 * 3 =  3  1 * 4 =  4  1 * 5 =  5\n",
        "# 2 * 1 =  2  2 * 2 =  4  2 * 3 =  6  2 * 4 =  8  2 * 5 = 10\n",
        "# 3 * 1 =  3  3 * 2 =  6  3 * 3 =  9  3 * 4 = 12  3 * 5 = 15\n",
        "# 4 * 1 =  4  4 * 2 =  8  4 * 3 = 12  4 * 4 = 16  4 * 5 = 20\n",
        "# 5 * 1 =  5  5 * 2 = 10  5 * 3 = 15  5 * 4 = 20  5 * 5 = 25"
      ],
      "metadata": {
        "colab": {
          "base_uri": "https://localhost:8080/"
        },
        "id": "qOzFbt2yh7tY",
        "outputId": "5c01cf95-818e-4421-eb32-53f3ac367c80"
      },
      "execution_count": 8,
      "outputs": [
        {
          "output_type": "stream",
          "name": "stdout",
          "text": [
            "n = 5\n",
            "1 × 1 =  1  1 × 2 =  2  1 × 3 =  3  1 × 4 =  4  1 × 5 =  5  \n",
            "2 × 1 =  2  2 × 2 =  4  2 × 3 =  6  2 × 4 =  8  2 × 5 = 10  \n",
            "3 × 1 =  3  3 × 2 =  6  3 × 3 =  9  3 × 4 = 12  3 × 5 = 15  \n",
            "4 × 1 =  4  4 × 2 =  8  4 × 3 = 12  4 × 4 = 16  4 × 5 = 20  \n",
            "5 × 1 =  5  5 × 2 = 10  5 × 3 = 15  5 × 4 = 20  5 × 5 = 25  \n"
          ]
        }
      ]
    },
    {
      "cell_type": "code",
      "source": [
        "# Задание task_02_26.\n",
        "#\n",
        "# Выполнил: Чумаков Олег\n",
        "# Группа: ЦИБ-241\n",
        "# E-mail: ChumakovOA300@mgpu.ru\n",
        "\n",
        "\n",
        "n = int(input('n = '))\n",
        "\n",
        "for i in range(1, n + 1):\n",
        "    count = 0\n",
        "    for t in range(1, i + 1):\n",
        "        if i % t == 0:\n",
        "            count += 1\n",
        "    print(i, '*'*count)\n",
        "\n",
        "\n",
        "# --------------\n",
        "# Пример вывода:\n",
        "#\n",
        "# n = 10\n",
        "# 1 *\n",
        "# 2 **\n",
        "# 3 **\n",
        "# 4 ***\n",
        "# 5 **\n",
        "# 6 ****\n",
        "# 7 **\n",
        "# 8 ****\n",
        "# 9 ***\n",
        "# 10 ****"
      ],
      "metadata": {
        "colab": {
          "base_uri": "https://localhost:8080/"
        },
        "id": "2TPBYK1Ih72s",
        "outputId": "2154cf31-15a5-4ae1-d42b-25874cf216ef"
      },
      "execution_count": 12,
      "outputs": [
        {
          "output_type": "stream",
          "name": "stdout",
          "text": [
            "n = 10\n",
            "1 *\n",
            "2 **\n",
            "3 **\n",
            "4 ***\n",
            "5 **\n",
            "6 ****\n",
            "7 **\n",
            "8 ****\n",
            "9 ***\n",
            "10 ****\n"
          ]
        }
      ]
    },
    {
      "cell_type": "code",
      "source": [
        "# Задание task_02_27.\n",
        "#\n",
        "# Выполнил: Чумаков Олег\n",
        "# Группа: ЦИБ-241\n",
        "# E-mail: ChumakovOA300@mgpu.ru\n",
        "\n",
        "\n",
        "n = int(input(\"n = \"))\n",
        "a = []\n",
        "number = 2\n",
        "\n",
        "while len(a) < n:\n",
        "    l_a = True\n",
        "    i = 2\n",
        "    while i <= number**0.5:\n",
        "        if number % i == 0:\n",
        "            l_a = False\n",
        "            break\n",
        "        i += 1\n",
        "    if l_a:\n",
        "        a.append(number)\n",
        "    number += 1\n",
        "\n",
        "print(\" \".join(map(str, a)))\n",
        "# --------------\n",
        "# Пример вывода:\n",
        "#\n",
        "# n = 10\n",
        "# 2 3 5 7 11 13 17 19 23 29"
      ],
      "metadata": {
        "colab": {
          "base_uri": "https://localhost:8080/"
        },
        "id": "RHJIC74ch8BL",
        "outputId": "7e50007b-125e-470b-9956-479e7341478d"
      },
      "execution_count": 13,
      "outputs": [
        {
          "output_type": "stream",
          "name": "stdout",
          "text": [
            "n = 10\n",
            "2 3 5 7 11 13 17 19 23 29\n"
          ]
        }
      ]
    },
    {
      "cell_type": "code",
      "source": [
        "# Задание task_02_28.\n",
        "#\n",
        "# Выполнил: Чумаков Олег\n",
        "# Группа: ЦИБ-241\n",
        "# E-mail: ChumakovOA300@mgpu.ru\n",
        "\n",
        "\n",
        "k = int(input('Введите целое число: '))\n",
        "\n",
        "for x in range(1, 31):\n",
        "    for y in range(1, 31):\n",
        "        for z in range(1, 31):\n",
        "            if x*x+y*y+z*z==k*k:\n",
        "                print(f'x = {x}, y = {y}, z = {z}')\n",
        "\n",
        "\n",
        "# --------------\n",
        "# Пример вывода:\n",
        "#\n",
        "# k = 30\n",
        "# x =  4, y = 10, z = 28\n",
        "# x =  4, y = 20, z = 22\n",
        "# x =  4, y = 22, z = 20\n",
        "# x =  4, y = 28, z = 10\n",
        "# x = 10, y =  4, z = 28\n",
        "# x = 10, y = 20, z = 20\n",
        "# x = 10, y = 28, z =  4\n",
        "# x = 20, y =  4, z = 22\n",
        "# x = 20, y = 10, z = 20\n",
        "# x = 20, y = 20, z = 10\n",
        "# x = 20, y = 22, z =  4\n",
        "# x = 22, y =  4, z = 20\n",
        "# x = 22, y = 20, z =  4\n",
        "# x = 28, y =  4, z = 10\n",
        "# x = 28, y = 10, z =  4"
      ],
      "metadata": {
        "colab": {
          "base_uri": "https://localhost:8080/"
        },
        "id": "DxYqXQERh8L7",
        "outputId": "3c6e0ffe-9894-4c54-dd0b-ba4af0d85d97"
      },
      "execution_count": 14,
      "outputs": [
        {
          "output_type": "stream",
          "name": "stdout",
          "text": [
            "Введите целое число: 30\n",
            "x = 4, y = 10, z = 28\n",
            "x = 4, y = 20, z = 22\n",
            "x = 4, y = 22, z = 20\n",
            "x = 4, y = 28, z = 10\n",
            "x = 10, y = 4, z = 28\n",
            "x = 10, y = 20, z = 20\n",
            "x = 10, y = 28, z = 4\n",
            "x = 20, y = 4, z = 22\n",
            "x = 20, y = 10, z = 20\n",
            "x = 20, y = 20, z = 10\n",
            "x = 20, y = 22, z = 4\n",
            "x = 22, y = 4, z = 20\n",
            "x = 22, y = 20, z = 4\n",
            "x = 28, y = 4, z = 10\n",
            "x = 28, y = 10, z = 4\n"
          ]
        }
      ]
    },
    {
      "cell_type": "code",
      "source": [
        "# Задание task_02_29.\n",
        "#\n",
        "# Выполнил: Чумаков Олег\n",
        "# Группа: ЦИБ-241\n",
        "# E-mail: ChumakovOA300@mgpu.ru\n",
        "\n",
        "\n",
        "\n",
        "n = int(input(\"n = \"))\n",
        "n_m = 1\n",
        "nums = []\n",
        "for i in range(n):\n",
        "    num = float(input(f\"Введите {i+1}-й элемент списка: \"))\n",
        "    nums.append(num)\n",
        "\n",
        "n_p = [x for x in nums if x > 0]\n",
        "n_n = []\n",
        "for x in nums:\n",
        "    if x < 0:\n",
        "        n_n.append(x)\n",
        "\n",
        "sr_ar = sum(n_p) / len(n_p)\n",
        "\n",
        "for i in n_n:\n",
        "    n_m *= i\n",
        "sr_geom = (n_m) ** (1 / len(n_n))\n",
        "\n",
        "print(\"Исходный список:\", nums)\n",
        "print(\"Положительные числа:\", n_p)\n",
        "print(\"Отрицательные числа:\", n_n)\n",
        "print(\"Ср. арифм.:\", round(sr_ar, 2))\n",
        "print(\"Ср. геом.:\", round(sr_geom, 2))\n",
        "\n",
        "\n",
        "# --------------\n",
        "# Пример вывода:\n",
        "#\n",
        "# n = 4\n",
        "# Введите 1-й элемент списка: 1\n",
        "# Введите 2-й элемент списка: 6\n",
        "# Введите 3-й элемент списка: -10\n",
        "# Введите 4-й элемент списка: -3\n",
        "# Исходный список: [1.0, 6.0, -10.0, -3.0]\n",
        "# Положительные числа: [1.0, 6.0]\n",
        "# Отрицательные числа: [-10.0, -3.0]\n",
        "# Ср. арифм.: 3.50\n",
        "# Ср. геом.: 5.48"
      ],
      "metadata": {
        "colab": {
          "base_uri": "https://localhost:8080/"
        },
        "id": "-JXVg-bbh8Wa",
        "outputId": "aacbfc9b-e162-4bff-df2a-b105574fa540"
      },
      "execution_count": 15,
      "outputs": [
        {
          "output_type": "stream",
          "name": "stdout",
          "text": [
            "n = 4\n",
            "Введите 1-й элемент списка: 1\n",
            "Введите 2-й элемент списка: 6\n",
            "Введите 3-й элемент списка: -10\n",
            "Введите 4-й элемент списка: -3\n",
            "Исходный список: [1.0, 6.0, -10.0, -3.0]\n",
            "Положительные числа: [1.0, 6.0]\n",
            "Отрицательные числа: [-10.0, -3.0]\n",
            "Ср. арифм.: 3.5\n",
            "Ср. геом.: 5.48\n"
          ]
        }
      ]
    },
    {
      "cell_type": "code",
      "source": [
        "# Задание task_02_30.\n",
        "#\n",
        "# Выполнил: Чумаков Олег\n",
        "# Группа: ЦИБ-241\n",
        "# E-mail: ChumakovOA300@mgpu.ru\n",
        "\n",
        "\n",
        "# Все разделенные пробелом элементы будут преобразованы в список целых чисел\n",
        "# Все разделенные пробелом элементы будут преобразованы в список целых чисел\n",
        "nums = [int(item) for item in input().split()]\n",
        "\n",
        "# 1. Все положительные\n",
        "for item in nums:\n",
        "    if item <= 0:\n",
        "        all_pos_1 = False\n",
        "        break\n",
        "else:\n",
        "    all_pos_1 = True\n",
        "\n",
        "all_pos_2 = all([item > 0 for item in nums])\n",
        "\n",
        "# 2. Хотя бы 1 нулевой элемент\n",
        "for item in nums:\n",
        "    if item == 0:\n",
        "        any_zero_1 = True\n",
        "        break\n",
        "else:\n",
        "    any_zero_1 = False\n",
        "\n",
        "any_zero_2 = any([item == 0 for item in nums])\n",
        "\n",
        "# 3. Все четные\n",
        "all_even_1 = True\n",
        "for item in nums:\n",
        "    if item % 2 != 0:\n",
        "        all_even_1 = False\n",
        "        break\n",
        "\n",
        "all_even_2 = all(item % 2 == 0 for item in nums)\n",
        "\n",
        "# 4. Хотя бы 1 нечетный элемент\n",
        "any_odd_1 = False\n",
        "for item in nums:\n",
        "    if item % 2 != 0:\n",
        "        any_odd_1 = True\n",
        "        break\n",
        "\n",
        "any_odd_2 = any(item % 2 != 0 for item in nums)\n",
        "\n",
        "print(\"Все положительные:\", all_pos_1, all_pos_2)\n",
        "print(\"Хотя бы 1 нулевой элемент:\", any_zero_1, any_zero_2)\n",
        "print(\"Все четные:\", all_even_1, all_even_2)\n",
        "print(\"Хотя бы 1 нечетный элемент:\", any_odd_1, any_odd_2)\n",
        "\n",
        "# --------------\n",
        "# Пример вывода:\n",
        "#\n",
        "# -1 1 100 0\n",
        "# Все положительные: False False\n",
        "# Хотя бы 1 нулевой элемент: True True\n",
        "# Все четные: False False\n",
        "# Хотя бы 1 нечетный элемент: True True"
      ],
      "metadata": {
        "colab": {
          "base_uri": "https://localhost:8080/"
        },
        "id": "1zRC9XTsh8ij",
        "outputId": "ab11c8e1-b84c-4363-faa9-f90bfa337669"
      },
      "execution_count": 18,
      "outputs": [
        {
          "output_type": "stream",
          "name": "stdout",
          "text": [
            "-1 1 100 0\n",
            "Все положительные: False False\n",
            "Хотя бы 1 нулевой элемент: True True\n",
            "Все четные: False False\n",
            "Хотя бы 1 нечетный элемент: True True\n"
          ]
        }
      ]
    },
    {
      "cell_type": "code",
      "source": [
        "# Задание task_02_31.\n",
        "#\n",
        "# Выполнил: Чумаков Олег\n",
        "# Группа: ЦИБ-241\n",
        "# E-mail: ChumakovOA300@mgpu.ru\n",
        "\n",
        "s = input(\"Введите предложение: \")\n",
        "k = input(\"Введите букву = \").lower()\n",
        "words = s.split()\n",
        "filtered_words = [word for word in words if k not in word.lower()]\n",
        "result = \" \".join(filtered_words)\n",
        "print(result)\n",
        "\n",
        "# --------------\n",
        "# Пример вывода:\n",
        "#\n",
        "# Введите предложение = МАМА мыла РаМу\n",
        "# Введите букву = р\n",
        "# МАМА мыла"
      ],
      "metadata": {
        "colab": {
          "base_uri": "https://localhost:8080/"
        },
        "id": "NFyWNTg0h8tM",
        "outputId": "74bec9c4-1c07-4b8f-e2d4-c2bd826ac492"
      },
      "execution_count": 20,
      "outputs": [
        {
          "output_type": "stream",
          "name": "stdout",
          "text": [
            "Введите предложение: МАМА мыла РаМу\n",
            "Введите букву = р\n",
            "МАМА мыла\n"
          ]
        }
      ]
    },
    {
      "cell_type": "code",
      "source": [
        "# Задание task_02_32.\n",
        "#\n",
        "# Выполнил: Чумаков Олег\n",
        "# Группа: ЦИБ-241\n",
        "# E-mail: ChumakovOA300@mgpu.ru\n",
        "\n",
        "\n",
        "n = int(input(\"Количество рядов = \"))\n",
        "\n",
        "# 1. Заполнение мест\n",
        "ss = []\n",
        "for i in range(n):\n",
        "   seat = list(map(int, input().split()))\n",
        "   ss.append(seat)\n",
        "\n",
        "# 2. Всего свободных мест\n",
        "count = 0\n",
        "for seat in ss:\n",
        "    count +=seat.count(0)\n",
        "print(f\"Всего свободных мест: {count}\")\n",
        "\n",
        "# 3. Ввод значений для поиска\n",
        "#    Учитывайте, что пользователь привык считать с 1, а не с 0,\n",
        "#    поэтому введенные сообщения необходимо скорректировать\n",
        "n_p, m_p = [int(item) for item in\n",
        "            input(\"Введите ряд и место через пробел: \").split()]\n",
        "if n_p < 1 or n_p > len(ss) or m_p < 1 or m_p > len(ss[n_p-1]):\n",
        "    print(\"Такого места не существует\")\n",
        "else:\n",
        "    is_free = ss[n_p-1][m_p-1] == 0\n",
        "    print(f\"Место свободно: {is_free}\")\n",
        "\n",
        "\n",
        "# n_p, m, p не должны выходить за границы\n",
        "# Если выходит, необходимо указать, что \"Такого места не существует\"\n",
        "# Удалите комментарий и допишите код\n",
        "\n",
        "# --------------\n",
        "# Пример вывода:\n",
        "#\n",
        "# Количество рядов = 3\n",
        "# 0 0 0\n",
        "# 1 1 1\n",
        "# 0 0 0 0 1\n",
        "# Всего свободных мест: 7\n",
        "# Введите ряд и место через пробел: 1 1\n",
        "# Место свободно: True"
      ],
      "metadata": {
        "colab": {
          "base_uri": "https://localhost:8080/"
        },
        "id": "DJrjwCz6h85C",
        "outputId": "7e72c9ed-34b9-490c-b6d8-152bdf8b46a0"
      },
      "execution_count": 21,
      "outputs": [
        {
          "output_type": "stream",
          "name": "stdout",
          "text": [
            "Количество рядов = 3\n",
            "0 0 0\n",
            "1 1 1\n",
            "0 0 0 0 1\n",
            "Всего свободных мест: 7\n",
            "Введите ряд и место через пробел: 1 1 \n",
            "Место свободно: True\n"
          ]
        }
      ]
    },
    {
      "cell_type": "code",
      "source": [
        "# Задание task_02_33.\n",
        "#\n",
        "# Выполнил: Чумаков Олег\n",
        "# Группа: ЦИБ-241\n",
        "# E-mail: ChumakovOA300@mgpu.ru\n",
        "\n",
        "\n",
        "\n",
        "# 1. Заполнение списка\n",
        "\n",
        "# Используйте данный список для собственных тестов,\n",
        "# чтобы избежать постоянного ввода значений\n",
        "# Перед автоматической проверкой удалите/закомментируйте его\n",
        "# и используйте ввод с клавиатуры\n",
        "employees = [\n",
        "    [\"Петрова\", \"Анна\", \"Алексеевна\", \"Ж\", 5],\n",
        "    [\"Семенов\", \"Николай\", \"Михайлович\", \"М\", 2],\n",
        "    [\"Михайлов\", \"Игорь\", \"Васильевич\", \"М\", 3]\n",
        "]\n",
        "\n",
        "n = int(input('Количество сотрудников = '))\n",
        "employees = []\n",
        "for _ in range(n):\n",
        "    b = input().split()\n",
        "    b[-1] = int(b[-1])\n",
        "    employees.append(b)\n",
        "\n",
        "sort_employees = sorted(employees, key=lambda x: x[-1])\n",
        "employee_min = sort_employees[0]\n",
        "employee_max = sort_employees[-1]\n",
        "\n",
        "print(\"Самый \\\"молодой\\\": {} {} {}\".format(*employee_min[:3]))\n",
        "print(\"Самый \\\"старый\\\": {} {} {}\".format(*employee_max[:3]))\n",
        "\n",
        "men = [emp for emp in employees if emp[3] == \"М\"]\n",
        "women = [emp for emp in employees if emp[3] == \"Ж\"]\n",
        "\n",
        "k = input(\"Введите букву начала имени = \").strip().lower()\n",
        "\n",
        "men_k_count = sum(1 for emp in men if emp[1].lower().startswith(k))\n",
        "women_k_count = sum(1 for emp in women if emp[1].lower().startswith(k))\n",
        "\n",
        "if men_k_count > women_k_count:\n",
        "    print(\"У мужчин таких имен больше\")\n",
        "elif women_k_count > men_k_count:\n",
        "    print(\"У женщин таких имен больше\")\n",
        "else:\n",
        "    print(\"Таких имен поровну у мужчин и женщин\")\n",
        "\n",
        "\n",
        "# --------------\n",
        "# Пример вывода:\n",
        "#\n",
        "# Количество сотрудников = 3\n",
        "# Петрова Анна Алексеевна Ж 5\n",
        "# Семенов Николай Михайлович М 2\n",
        "# Михайлов Игорь Васильевич М 3\n",
        "# Cамый \"молодой\": Семенов Николай Михайлович\n",
        "# Cамый \"старый\": Петрова Анна Алексеевна\n",
        "# Введите букву начала имени = а\n",
        "# У женщин таких имен больше\n",
        "#\n",
        "# Количество сотрудников = 3\n",
        "# Петрова Анна Алексеевна Ж 5\n",
        "# Семенов Николай Михайлович М 2\n",
        "# Михайлов Игорь Васильевич М 3\n",
        "# Cамый \"молодой\": Семенов Николай Михайлович\n",
        "# Cамый \"старый\": Петрова Анна Алексеевна\n",
        "# Введите букву начала имени = и\n",
        "# У мужчин таких имен больше\n",
        "#\n",
        "# Количество сотрудников = 3\n",
        "# Петрова Анна Алексеевна Ж 5\n",
        "# Семенов Николай Михайлович М 2\n",
        "# Михайлов Алексей Васильевич М 3\n",
        "# Cамый \"молодой\": Семенов Николай Михайлович\n",
        "# Cамый \"старый\": Петрова Анна Алексеевна\n",
        "# Введите букву начала имени = а\n",
        "# Таких имен поровну у мужчин и женщин"
      ],
      "metadata": {
        "colab": {
          "base_uri": "https://localhost:8080/"
        },
        "id": "rN5MxeMEh9FM",
        "outputId": "7e7ab0df-877c-4f1c-d385-18cfc5dafbfe"
      },
      "execution_count": 24,
      "outputs": [
        {
          "output_type": "stream",
          "name": "stdout",
          "text": [
            "Количество сотрудников = 3\n",
            "Петрова Анна Алексеевна Ж 5\n",
            "Семенов Николай Михайлович М 2\n",
            "Михайлов Алексей Васильевич М 3\n",
            "Самый \"молодой\": Семенов Николай Михайлович\n",
            "Самый \"старый\": Петрова Анна Алексеевна\n",
            "Введите букву начала имени = а\n",
            "Таких имен поровну у мужчин и женщин\n"
          ]
        }
      ]
    },
    {
      "cell_type": "code",
      "source": [
        "# Задание task_02_34.\n",
        "#\n",
        "# Выполнил: Чумаков Олег\n",
        "# Группа: ЦИБ-241\n",
        "# E-mail: ChumakovOA300@mgpu.ru\n",
        "\n",
        "# 1. Заполнение списка\n",
        "\n",
        "# Используйте данный список для собственных тестов,\n",
        "# чтобы избежать постоянного ввода значений\n",
        "# Перед автоматической проверкой удалите его\n",
        "# и используйте ввод с клавиатуры\n",
        "\n",
        "n = int(input(\"Количество банков: \"))\n",
        "\n",
        "deposits = []\n",
        "for i in range(n):\n",
        "    b_info = input(f\"Введите данные для банка {i + 1} (Банк Сумма Процент): \").split()\n",
        "    name = b_info[0]\n",
        "    i_sum = int(b_info[1])\n",
        "    rate = float(b_info[2])\n",
        "    deposits.append({\"name\": name, \"i_sum\": i_sum, \"rate\": rate})\n",
        "\n",
        "# 2. Самый доступный банк (с наименьшей первоначальной суммой)\n",
        "\n",
        "min_i_sum_bank = min(deposits, key=lambda x: x[\"i_sum\"])\n",
        "\n",
        "\n",
        "# 3. Самый выгодный банк\n",
        "#    прибыль = сумма * процент / 100\n",
        "most_p_bank = max(deposits, key=lambda x: x[\"i_sum\"] * x[\"rate\"] / 100)\n",
        "\n",
        "print(f\"Количество банков = {n}\")\n",
        "for deposit in deposits:\n",
        "    print(f\"{deposit['name']} {deposit['i_sum']} {deposit['rate']}\")\n",
        "\n",
        "print(f\"Самый доступный банк: {min_i_sum_bank['name']}, первоначальная сумма: {min_i_sum_bank['i_sum']:.2f} руб.\")\n",
        "print(f\"Самый выгодный банк: {most_p_bank['name']}, прибыль: {most_p_bank['i_sum'] * most_p_bank['rate'] / 100:.2f} руб.\")\n",
        "# --------------\n",
        "# Пример вывода:\n",
        "#\n",
        "# Количество банков = 3\n",
        "# Банк_1 50000 5.2\n",
        "# Банк_2 20000 3.7\n",
        "# Банк_3 45000 6.8\n",
        "# Самый доступный банк: Банк_2, первоначальная сумма: 20000.00 руб.\n",
        "# Самый выгодный банк: Банк_3, прибыль: 3060.00 руб."
      ],
      "metadata": {
        "colab": {
          "base_uri": "https://localhost:8080/"
        },
        "id": "dJP-uyx7h9Sb",
        "outputId": "dc740c8c-8966-4579-c914-3f8ae10ba1fd"
      },
      "execution_count": 34,
      "outputs": [
        {
          "output_type": "stream",
          "name": "stdout",
          "text": [
            "Количество банков: 3\n",
            "Введите данные для банка 1 (Банк Сумма Процент): 1 50000 5.2\n",
            "Введите данные для банка 2 (Банк Сумма Процент): 2 20000 3.7\n",
            "Введите данные для банка 3 (Банк Сумма Процент): 3 45000 6.8\n",
            "Количество банков = 3\n",
            "1 50000 5.2\n",
            "2 20000 3.7\n",
            "3 45000 6.8\n",
            "Самый доступный банк: 2, первоначальная сумма: 20000.00 руб.\n",
            "Самый выгодный банк: 3, прибыль: 3060.00 руб.\n"
          ]
        }
      ]
    }
  ],
  "metadata": {
    "colab": {
      "provenance": [],
      "authorship_tag": "ABX9TyNd9UKv6jD4mC9r8kOdnLWM",
      "include_colab_link": true
    },
    "kernelspec": {
      "display_name": "Python 3",
      "name": "python3"
    },
    "language_info": {
      "name": "python"
    }
  },
  "nbformat": 4,
  "nbformat_minor": 0
}