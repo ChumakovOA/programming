{
  "nbformat": 4,
  "nbformat_minor": 0,
  "metadata": {
    "colab": {
      "provenance": [],
      "authorship_tag": "ABX9TyPrbwCRWcF8aLRKzzVLhf3K",
      "include_colab_link": true
    },
    "kernelspec": {
      "name": "python3",
      "display_name": "Python 3"
    },
    "language_info": {
      "name": "python"
    }
  },
  "cells": [
    {
      "cell_type": "markdown",
      "metadata": {
        "id": "view-in-github",
        "colab_type": "text"
      },
      "source": [
        "<a href=\"https://colab.research.google.com/github/ChumakovOA/programming/blob/main/%D0%9B%D0%B0%D0%B1%D0%BE%D1%80%D0%B0%D1%82%D0%BE%D1%80%D0%BD%D0%B0%D1%8F_%D1%80%D0%B0%D0%B1%D0%BE%D1%82%D0%B0_%E2%84%963_1.ipynb\" target=\"_parent\"><img src=\"https://colab.research.google.com/assets/colab-badge.svg\" alt=\"Open In Colab\"/></a>"
      ]
    },
    {
      "cell_type": "code",
      "execution_count": 3,
      "metadata": {
        "colab": {
          "base_uri": "https://localhost:8080/"
        },
        "id": "o_LHzEI9RvEI",
        "outputId": "a9029956-03dc-4241-9e58-fa932a30ac23"
      },
      "outputs": [
        {
          "output_type": "stream",
          "name": "stdout",
          "text": [
            "Введите x: -9\n",
            "Введите y: 0\n",
            "Результат: 0.33\n"
          ]
        }
      ],
      "source": [
        "# Задание task_03_01_01.\n",
        "#\n",
        "# Выполнил: Чумаков О. А.\n",
        "# Группа: ЦИБ - 241\n",
        "\n",
        "import math\n",
        "\n",
        "def sgn(a):\n",
        "    if a > 0:\n",
        "        return 1\n",
        "    elif a < 0:\n",
        "        return -1\n",
        "    else:\n",
        "        return 0\n",
        "\n",
        "def compute_z(x, y):\n",
        "    u = sgn(x) + y**2\n",
        "    d = sgn(y) - math.sqrt(abs(x))\n",
        "    if d == 0:\n",
        "        return None\n",
        "    else:\n",
        "        return u / d\n",
        "x = float(input(\"Введите x: \"))\n",
        "y = float(input(\"Введите y: \"))\n",
        "z = compute_z(x, y)\n",
        "if z is not None:\n",
        "    print(f\"Результат: {z:.2f}\")\n",
        "else:\n",
        "    print(\"Результат не определен (деление на ноль)\")\n",
        "# --------------\n",
        "# Пример вывода:\n",
        "#\n",
        "# Введите x: -9\n",
        "# Введите y: 0\n",
        "# Ответ: 0.33"
      ]
    },
    {
      "cell_type": "code",
      "source": [
        "# Задание task_03_01_02.\n",
        "#\n",
        "# Выполнил: Чумаков О. А.\n",
        "# Группа: ЦИБ - 241\n",
        "\n",
        "\n",
        "\n",
        "def avg(data):\n",
        "\n",
        "    cleaned = [x for x in data if x is not None]\n",
        "    return sum(cleaned) / len(cleaned)\n",
        "\n",
        "\n",
        "def cleared_data(data):\n",
        "\n",
        "    return [x for x in data if x is not None]\n",
        "\n",
        "\n",
        "n = int(input(\"Кол-во измерений: \"))\n",
        "\n",
        "data = []\n",
        "for i in range(n):\n",
        "    m = input(f\"Измерение {i+1}-е: \")\n",
        "    if m == '-':\n",
        "        data.append(None)\n",
        "    else:\n",
        "        data.append(int(m))\n",
        "cleaned = cleared_data(data)\n",
        "average = avg(data)\n",
        "\n",
        "print(f\"Средняя температура: {average:.2f}\")\n",
        "\n",
        "# --------------\n",
        "# Пример вывода:\n",
        "#\n",
        "# Кол-во измерений: 3\n",
        "# Измерение 1-е: 10\n",
        "# Измерение 2-е: -\n",
        "# Измерение 3-е: 20\n",
        "# Средняя температура: 15.00"
      ],
      "metadata": {
        "id": "2TvBv_s3T1Vt"
      },
      "execution_count": null,
      "outputs": []
    },
    {
      "cell_type": "code",
      "source": [
        "# Задание task_03_01_03.\n",
        "#\n",
        "# Выполнил: Чумаков О. А.\n",
        "# Группа: ЦИБ - 241\n",
        "\n",
        "\n",
        "\n",
        "def is_lucky_number(n):\n",
        "    e = 0\n",
        "    o = 0\n",
        "    for digit in str(n):\n",
        "        num = int(digit)\n",
        "        if num % 2 == 0:\n",
        "            e += 1\n",
        "        else:\n",
        "            o += 1\n",
        "    return e == o\n",
        "\n",
        "def find_lucky_numbers(a, b):\n",
        "    lucky_numbers = []\n",
        "    for number in range(a, b + 1):\n",
        "        if is_lucky_number(number):\n",
        "            lucky_numbers.append(number)\n",
        "    return lucky_numbers\n",
        "try:\n",
        "    a = int(input())\n",
        "    b = int(input())\n",
        "\n",
        "    if a >= b:\n",
        "        raise ValueError(\"a должно быть меньше b\")\n",
        "    if a < 1 or b < 1:\n",
        "        raise ValueError(\"Числа должны быть положительными\")\n",
        "\n",
        "    res = find_lucky_numbers(a, b)\n",
        "    print(res)\n",
        "\n",
        "except ValueError as e:\n",
        "    print(f\"Ошибка: {e}\")\n",
        "# --------------\n",
        "# Пример вывода:\n",
        "#\n",
        "# Первый номер билета: 10\n",
        "# Последний номер билета: 25\n",
        "# 10 12 14 16 18 21 23 25"
      ],
      "metadata": {
        "colab": {
          "base_uri": "https://localhost:8080/"
        },
        "id": "xOXp6wpwUs0M",
        "outputId": "e9521812-de1f-4d28-b281-534f80b2761d"
      },
      "execution_count": 9,
      "outputs": [
        {
          "output_type": "stream",
          "name": "stdout",
          "text": [
            "10\n",
            "25\n",
            "[10, 12, 14, 16, 18, 21, 23, 25]\n"
          ]
        }
      ]
    },
    {
      "cell_type": "code",
      "source": [
        "# Задание task_03_01_04.\n",
        "#\n",
        "# Выполнил: Чумаков О. А.\n",
        "# Группа: ЦИБ - 241\n",
        "\n",
        "\n",
        "def is_leap(year):\n",
        "    \"\"\"Является ли 'year' високосным годом?\n",
        "\n",
        "    Параметры:\n",
        "        year: натуральное число (год).\n",
        "\n",
        "    Результат:\n",
        "        bool: True - да, False - нет.\n",
        "    \"\"\"\n",
        "    if year % 400 == 0:\n",
        "        return True\n",
        "    if year % 100 == 0:\n",
        "        return False\n",
        "    if year % 4 == 0:\n",
        "        return True\n",
        "    return False\n",
        "\n",
        "\n",
        "def days(month, year):\n",
        "    \"\"\"Вернуть количество дней в месяце 'month' года 'year'.\n",
        "\n",
        "    Параметры:\n",
        "        month: натуральное число от 1 до 12 (месяц),\n",
        "        year: натуральное число (год).\n",
        "\n",
        "    Результат:\n",
        "        Количество дней в месяце (28, 29, 30 или 31).\n",
        "    \"\"\"\n",
        "    if month == 2:\n",
        "        return 29 if is_leap(year) else 28\n",
        "    elif month in [4, 6, 9, 11]:\n",
        "        return 30\n",
        "    else:\n",
        "        return 31\n",
        "\n",
        "\n",
        "def previous_date(day, month, year):\n",
        "    \"\"\"Вернуть день, месяц, год предыдущего дня.\n",
        "\n",
        "    Параметры:\n",
        "        day: натуральное число (день),\n",
        "        month: натуральное число от 1 до 12 (месяц),\n",
        "        year: натуральное число (год).\n",
        "\n",
        "    Результат:\n",
        "        Кортеж (day, month, year) - предыдущая дата.\n",
        "    \"\"\"\n",
        "    if day > 1:\n",
        "        return (day - 1, month, year)\n",
        "    elif month > 1:\n",
        "        prev_month = month - 1\n",
        "        prev_day = days(prev_month, year)\n",
        "        return (prev_day, prev_month, year)\n",
        "    else:\n",
        "        return (31, 12, year - 1)\n",
        "\n",
        "\n",
        "def next_date(day, month, year):\n",
        "    \"\"\"Вернуть день, месяц, год следующего дня.\n",
        "\n",
        "    Параметры:\n",
        "        day: натуральное число (день),\n",
        "        month: натуральное число от 1 до 12 (месяц),\n",
        "        year: натуральное число (год).\n",
        "\n",
        "    Результат:\n",
        "        Кортеж (day, month, year) - следующая дата.\n",
        "    \"\"\"\n",
        "    max_day = days(month, year)\n",
        "    if day < max_day:\n",
        "        return (day + 1, month, year)\n",
        "    elif month < 12:\n",
        "        return (1, month + 1, year)\n",
        "    else:\n",
        "        return (1, 1, year + 1)\n",
        "\n",
        "\n",
        "    return day, month, year\n",
        "\n",
        "def next_date(day, month, year):\n",
        "    \"\"\"Вернуть день, месяц, год следующего дня.\n",
        "\n",
        "    Параметры:\n",
        "        day: натуральное число (день),\n",
        "        month: натуральное число от 1 до 12 (месяц),\n",
        "        year: натуральное число (год).\n",
        "\n",
        "    Результат:\n",
        "        Кортеж (day, month, year) - следующая дата.\n",
        "    \"\"\"\n",
        "    max_day = days(month, year)\n",
        "    if day < max_day:\n",
        "        return (day + 1, month, year)\n",
        "    elif month < 12:\n",
        "        return (1, month + 1, year)\n",
        "    else:\n",
        "        return (1, 1, year + 1)\n",
        "day, month, year = map(int, input(\"Введите дату (день месяц год): \").split())\n",
        "\n",
        "prev_day, prev_month, prev_year = previous_date(day, month, year)\n",
        "print(f\"Вчера: {prev_day:02d}.{prev_month:02d}.{prev_year}\")\n",
        "\n",
        "next_day, next_month, next_year = next_date(day, month, year)\n",
        "print(f\"Завтра: {next_day:02d}.{next_month:02d}.{next_year}\")\n",
        "# --------------\n",
        "# Пример вывода:\n",
        "#\n",
        "# День, месяц, год через пробел: 1 3 2000\n",
        "# Предыдущий день: 29/02/2000\n",
        "# Следующий день: 02/03/2000"
      ],
      "metadata": {
        "colab": {
          "base_uri": "https://localhost:8080/"
        },
        "id": "Oi0HX3saUs_L",
        "outputId": "b7842027-8e17-4956-dc4f-8decdb062775"
      },
      "execution_count": 12,
      "outputs": [
        {
          "output_type": "stream",
          "name": "stdout",
          "text": [
            "Введите дату (день месяц год): 1 3 2000\n",
            "Вчера: 29.02.2000\n",
            "Завтра: 02.03.2000\n"
          ]
        }
      ]
    },
    {
      "cell_type": "code",
      "source": [
        "# Задание task_03_01_05.\n",
        "#\n",
        "# Выполнил: Чумаков О. А.\n",
        "# Группа: ЦИБ - 241\n",
        "\n",
        "def is_leap(year):\n",
        "    \"\"\"Является ли 'year' високосным годом?\n",
        "\n",
        "    Параметры:\n",
        "        year: натуральное число (год).\n",
        "\n",
        "    Результат:\n",
        "        bool: True - да, False - нет.\n",
        "    \"\"\"\n",
        "    return year % 400 == 0 or (year % 100 != 0 and year % 4 == 0)\n",
        "\n",
        "\n",
        "def days(month, year):\n",
        "    \"\"\"Вернуть количество дней в месяце 'month' года 'year'.\n",
        "\n",
        "    Параметры:\n",
        "        month: натуральное число от 1 до 12 (месяц),\n",
        "        year: натуральное число (год).\n",
        "\n",
        "    Результат:\n",
        "        Количество дней в месяце (28, 29, 30 или 31).\n",
        "    \"\"\"\n",
        "    if month == 2:\n",
        "        return 29 if is_leap(year) else 28\n",
        "    elif month in [4, 6, 9, 11]:\n",
        "        return 30\n",
        "    else:\n",
        "        return 31\n",
        "\n",
        "\n",
        "def another_date(day, month, year, delta=1):\n",
        "    \"\"\"Вернуть день, месяц, год, отличающийся на 'delta' дней.\n",
        "\n",
        "    Параметры:\n",
        "        day: натуральное число (день),\n",
        "        month: натуральное число от 1 до 12 (месяц),\n",
        "        year: натуральное число (год),\n",
        "        delta: целое число (сдвиг в днях, может быть отрицательным).\n",
        "\n",
        "    Результат:\n",
        "        Кортеж (day, month, year) - новая дата.\n",
        "    \"\"\"\n",
        "\n",
        "    def previous_date(d, m, y):\n",
        "        \"\"\"Вернуть день, месяц, год предыдущего дня.\"\"\"\n",
        "        if d > 1:\n",
        "            return (d - 1, m, y)\n",
        "        elif m > 1:\n",
        "            prev_m = m - 1\n",
        "            prev_d = days(prev_m, y)\n",
        "            return (prev_d, prev_m, y)\n",
        "        else:\n",
        "            return (31, 12, y - 1)\n",
        "\n",
        "    def next_date(d, m, y):\n",
        "        \"\"\"Вернуть день, месяц, год следующего дня.\"\"\"\n",
        "        max_d = days(m, y)\n",
        "        if d < max_d:\n",
        "            return (d + 1, m, y)\n",
        "        elif m < 12:\n",
        "            return (1, m + 1, y)\n",
        "        else:\n",
        "            return (1, 1, y + 1)\n",
        "\n",
        "    current_day, current_month, current_year = day, month, year\n",
        "    if delta > 0:\n",
        "        for _ in range(delta):\n",
        "            current_day, current_month, current_year = next_date(current_day, current_month, current_year)\n",
        "    elif delta < 0:\n",
        "        for _ in range(-delta):\n",
        "            current_day, current_month, current_year = previous_date(current_day, current_month, current_year)\n",
        "    return (current_day, current_month, current_year)\n",
        "\n",
        "\n",
        "# Ввод данных\n",
        "day, month, year = map(int, input(\"День, месяц, год через пробел: \").split())\n",
        "delta = int(input(\"Сдвиг (может быть отрицательным): \"))\n",
        "\n",
        "# Вычисление новой даты\n",
        "new_day, new_month, new_year = another_date(day, month, year, delta)\n",
        "\n",
        "# Вывод результата\n",
        "print(f\"Новый день: {new_day:02d}/{new_month:02d}/{new_year}\")\n",
        "\n",
        "# --------------\n",
        "# Пример вывода:\n",
        "#\n",
        "# День, месяц, год через пробел: 1 1 2000\n",
        "# Свдиг (может быть отрицательным): -2\n",
        "# Новый день: 30/12/1999\n",
        "#\n",
        "# День, месяц, год через пробел: 1 1 2000\n",
        "# Свдиг (может быть отрицательным): 2\n",
        "# Новый день: 03/01/2000"
      ],
      "metadata": {
        "colab": {
          "base_uri": "https://localhost:8080/"
        },
        "id": "2RT0BG6iUtCs",
        "outputId": "6ae1992d-e3ac-497a-aab5-a02871ac2568"
      },
      "execution_count": 13,
      "outputs": [
        {
          "output_type": "stream",
          "name": "stdout",
          "text": [
            "День, месяц, год через пробел: 1 1 2000\n",
            "Сдвиг (может быть отрицательным): -2\n",
            "Новый день: 30/12/1999\n"
          ]
        }
      ]
    },
    {
      "cell_type": "code",
      "source": [
        "# Задание task_03_01_06.\n",
        "#\n",
        "# Выполнил: Чумаков О. А.\n",
        "# Группа: ЦИБ - 241\n",
        "\n",
        "\n",
        "import math\n",
        "\n",
        "def gcd(first, second):\n",
        "    return math.gcd(first, second)\n",
        "\n",
        "\n",
        "def lcm(first, second):\n",
        "    return first * second // gcd(first, second)\n",
        "\n",
        "\n",
        "def gcd_nums(nums):\n",
        "    current_gcd = nums[0]\n",
        "    for num in nums[1:]:\n",
        "        current_gcd = gcd(current_gcd, num)\n",
        "        if current_gcd == 1:\n",
        "            break\n",
        "    return current_gcd\n",
        "\n",
        "\n",
        "def lcm_nums(nums):\n",
        "    current_lcm = nums[0]\n",
        "    for num in nums[1:]:\n",
        "        current_lcm = lcm(current_lcm, num)\n",
        "    return current_lcm\n",
        "\n",
        "\n",
        "# Ввод данных\n",
        "nums = list(map(int, input(\"Введите числа через пробел: \").split()))\n",
        "\n",
        "# Вычисление НОД и НОК\n",
        "gcd_result = gcd_nums(nums)\n",
        "lcm_result = lcm_nums(nums)\n",
        "\n",
        "# Вывод результатов\n",
        "print(f\"НОД = {gcd_result}\")\n",
        "print(f\"НОК = {lcm_result}\")\n",
        "\n",
        "# --------------\n",
        "# Пример вывода:\n",
        "#\n",
        "# Введите числа через пробел: 8 10 14\n",
        "# НОД = 2\n",
        "# НОК = 280\n",
        "#\n",
        "# Введите числа через пробел: 6 8 24 16\n",
        "# НОД = 2\n",
        "# НОК = 48"
      ],
      "metadata": {
        "colab": {
          "base_uri": "https://localhost:8080/"
        },
        "id": "x9M0IEg2Utyd",
        "outputId": "8a241682-0942-4eb6-e0e7-8045d11af1af"
      },
      "execution_count": 14,
      "outputs": [
        {
          "output_type": "stream",
          "name": "stdout",
          "text": [
            "Введите числа через пробел: 8 10 14\n",
            "НОД = 2\n",
            "НОК = 280\n"
          ]
        }
      ]
    },
    {
      "cell_type": "code",
      "source": [
        "# Задание task_03_01_07.\n",
        "#\n",
        "# Выполнил: Чумаков О. А.\n",
        "# Группа: ЦИБ - 241\n",
        "\n",
        "\n",
        "def has_digits(sentence):\n",
        "    return any(c.isdigit() for c in sentence)\n",
        "\n",
        "def sentences_with_digits_count(sentences):\n",
        "    return sum(1 for s in sentences if has_digits(s))\n",
        "\n",
        "n = int(input(\"Введите количество предложений: \"))\n",
        "sentences = [input(f\"Введите предложение №{i+1}:\\n\") for i in range(n)]\n",
        "\n",
        "count = sentences_with_digits_count(sentences)\n",
        "print(f\"Предложений с цифрой = {count}\")\n",
        "\n",
        "# --------------\n",
        "# Пример вывода:\n",
        "#\n",
        "# Введите количество предложений: 3\n",
        "# Введите предложение №1:\n",
        "# Просто текст\n",
        "# Введите предложение №2:\n",
        "# Текст с цифрой 1 (один)\n",
        "# Введите предложение №3:\n",
        "# Тут нет цифры\n",
        "# Предложений с цифрой = 1"
      ],
      "metadata": {
        "colab": {
          "base_uri": "https://localhost:8080/"
        },
        "id": "9i9e-rgeUt9M",
        "outputId": "31d7bfe3-bae0-48bf-f4b3-9ee2b968bc95"
      },
      "execution_count": 15,
      "outputs": [
        {
          "output_type": "stream",
          "name": "stdout",
          "text": [
            "Введите количество предложений: 3\n",
            "Введите предложение №1:\n",
            "wggs\n",
            "Введите предложение №2:\n",
            "2131rgfg\n",
            "Введите предложение №3:\n",
            "bsdfb\n",
            "Предложений с цифрой = 1\n"
          ]
        }
      ]
    },
    {
      "cell_type": "code",
      "source": [
        "\n",
        "# Задание task_03_01_08.\n",
        "#\n",
        "# Выполнил: Чумаков О. А.\n",
        "# Группа: ЦИБ - 241\n",
        "\n",
        "\n",
        "def print_with_border(string, char):\n",
        "    border = char * (len(string) + 4)\n",
        "    print(border)\n",
        "    print(f\"{char} {string} {char}\")\n",
        "    print(border)\n",
        "\n",
        "s = input(\"Введите строку: \")\n",
        "k = input(\"Введите символ: \")[0]\n",
        "print_with_border(s, k)\n",
        "\n",
        "# --------------\n",
        "# Пример вывода:\n",
        "#\n",
        "# Введите строку: Просто текст\n",
        "# Введите символ: +\n",
        "# ++++++++++++++\n",
        "# +Просто текст+\n",
        "# ++++++++++++++"
      ],
      "metadata": {
        "colab": {
          "base_uri": "https://localhost:8080/"
        },
        "id": "LkM7fF89UuHY",
        "outputId": "7e37cf3d-7a3b-4af9-af0b-9ebcf4a88137"
      },
      "execution_count": 16,
      "outputs": [
        {
          "output_type": "stream",
          "name": "stdout",
          "text": [
            "Введите строку: vsv\n",
            "Введите символ: +\n",
            "+++++++\n",
            "+ vsv +\n",
            "+++++++\n"
          ]
        }
      ]
    },
    {
      "cell_type": "code",
      "source": [
        "# Задание task_03_01_09.\n",
        "#\n",
        "# Выполнил: Чумаков О. А.\n",
        "# Группа: ЦИБ - 241\n",
        "\n",
        "\n",
        "\n",
        "LETTERS_EX = {10: \"A\", 11: \"B\", 12: \"C\", 13: \"D\", 14: \"E\", 15: \"F\"}\n",
        "DIGITS_EX = {\"A\": 10, \"B\": 11, \"C\": 12, \"D\": 13, \"E\": 14, \"F\": 15}\n",
        "\n",
        "def to_base(number, base):\n",
        "    if number == 0:\n",
        "        return \"0\"\n",
        "    digits = []\n",
        "    while number > 0:\n",
        "        digit = number % base\n",
        "        digits.append(LETTERS_EX.get(digit, str(digit)))\n",
        "        number = number // base\n",
        "    return ''.join(reversed(digits))\n",
        "\n",
        "def from_base(number, base):\n",
        "    return sum(DIGITS_EX.get(c, int(c)) * (base ** i)\n",
        "           for i, c in enumerate(reversed(str(number).upper())))\n",
        "\n",
        "# Пример использования:\n",
        "print(to_base(255, 16))  # FF\n",
        "print(from_base(\"FF\", 16))  # 255\n",
        "\n",
        "\n",
        "# --------------\n",
        "# Пример вывода:\n",
        "#\n",
        "# Нет"
      ],
      "metadata": {
        "colab": {
          "base_uri": "https://localhost:8080/",
          "height": 373
        },
        "id": "5vXnJwHMUuSk",
        "outputId": "2c4dd0bd-1f98-40b9-9f9b-6617e4ba3202"
      },
      "execution_count": 20,
      "outputs": [
        {
          "output_type": "stream",
          "name": "stdout",
          "text": [
            "FF\n"
          ]
        },
        {
          "output_type": "error",
          "ename": "ValueError",
          "evalue": "invalid literal for int() with base 10: 'F'",
          "traceback": [
            "\u001b[0;31m---------------------------------------------------------------------------\u001b[0m",
            "\u001b[0;31mValueError\u001b[0m                                Traceback (most recent call last)",
            "\u001b[0;32m<ipython-input-20-d17923af8fe5>\u001b[0m in \u001b[0;36m<cell line: 0>\u001b[0;34m()\u001b[0m\n\u001b[1;32m     27\u001b[0m \u001b[0;31m# Пример использования:\u001b[0m\u001b[0;34m\u001b[0m\u001b[0;34m\u001b[0m\u001b[0m\n\u001b[1;32m     28\u001b[0m \u001b[0mprint\u001b[0m\u001b[0;34m(\u001b[0m\u001b[0mto_base\u001b[0m\u001b[0;34m(\u001b[0m\u001b[0;36m255\u001b[0m\u001b[0;34m,\u001b[0m \u001b[0;36m16\u001b[0m\u001b[0;34m)\u001b[0m\u001b[0;34m)\u001b[0m  \u001b[0;31m# FF\u001b[0m\u001b[0;34m\u001b[0m\u001b[0;34m\u001b[0m\u001b[0m\n\u001b[0;32m---> 29\u001b[0;31m \u001b[0mprint\u001b[0m\u001b[0;34m(\u001b[0m\u001b[0mfrom_base\u001b[0m\u001b[0;34m(\u001b[0m\u001b[0;34m\"FF\"\u001b[0m\u001b[0;34m,\u001b[0m \u001b[0;36m16\u001b[0m\u001b[0;34m)\u001b[0m\u001b[0;34m)\u001b[0m  \u001b[0;31m# 255\u001b[0m\u001b[0;34m\u001b[0m\u001b[0;34m\u001b[0m\u001b[0m\n\u001b[0m\u001b[1;32m     30\u001b[0m \u001b[0;34m\u001b[0m\u001b[0m\n\u001b[1;32m     31\u001b[0m \u001b[0;34m\u001b[0m\u001b[0m\n",
            "\u001b[0;32m<ipython-input-20-d17923af8fe5>\u001b[0m in \u001b[0;36mfrom_base\u001b[0;34m(number, base)\u001b[0m\n\u001b[1;32m     22\u001b[0m \u001b[0;32mdef\u001b[0m \u001b[0mfrom_base\u001b[0m\u001b[0;34m(\u001b[0m\u001b[0mnumber\u001b[0m\u001b[0;34m,\u001b[0m \u001b[0mbase\u001b[0m\u001b[0;34m)\u001b[0m\u001b[0;34m:\u001b[0m\u001b[0;34m\u001b[0m\u001b[0;34m\u001b[0m\u001b[0m\n\u001b[1;32m     23\u001b[0m     \u001b[0;34m\"\"\"Преобразовать число из системы счисления base в десятичную.\"\"\"\u001b[0m\u001b[0;34m\u001b[0m\u001b[0;34m\u001b[0m\u001b[0m\n\u001b[0;32m---> 24\u001b[0;31m     return sum(DIGITS_EX.get(c, int(c)) * (base ** i) \n\u001b[0m\u001b[1;32m     25\u001b[0m            for i, c in enumerate(reversed(str(number).upper())))\n\u001b[1;32m     26\u001b[0m \u001b[0;34m\u001b[0m\u001b[0m\n",
            "\u001b[0;32m<ipython-input-20-d17923af8fe5>\u001b[0m in \u001b[0;36m<genexpr>\u001b[0;34m(.0)\u001b[0m\n\u001b[1;32m     22\u001b[0m \u001b[0;32mdef\u001b[0m \u001b[0mfrom_base\u001b[0m\u001b[0;34m(\u001b[0m\u001b[0mnumber\u001b[0m\u001b[0;34m,\u001b[0m \u001b[0mbase\u001b[0m\u001b[0;34m)\u001b[0m\u001b[0;34m:\u001b[0m\u001b[0;34m\u001b[0m\u001b[0;34m\u001b[0m\u001b[0m\n\u001b[1;32m     23\u001b[0m     \u001b[0;34m\"\"\"Преобразовать число из системы счисления base в десятичную.\"\"\"\u001b[0m\u001b[0;34m\u001b[0m\u001b[0;34m\u001b[0m\u001b[0m\n\u001b[0;32m---> 24\u001b[0;31m     return sum(DIGITS_EX.get(c, int(c)) * (base ** i) \n\u001b[0m\u001b[1;32m     25\u001b[0m            for i, c in enumerate(reversed(str(number).upper())))\n\u001b[1;32m     26\u001b[0m \u001b[0;34m\u001b[0m\u001b[0m\n",
            "\u001b[0;31mValueError\u001b[0m: invalid literal for int() with base 10: 'F'"
          ]
        }
      ]
    },
    {
      "cell_type": "code",
      "source": [
        "# Задание task_03_01_10.\n",
        "#\n",
        "# Выполнил: Чумаков О. А.\n",
        "# Группа: ЦИБ - 241\n",
        "\n",
        "\n",
        "def sentence_stats(sentence):\n",
        "    for c in sentence.lower():\n",
        "        stats[c] = stats.get(c, 0) + 1\n",
        "    return stats\n",
        "\n",
        "s = input(\"Введите предложение: \")\n",
        "print(sentence_stats(s))\n",
        "\n",
        "# --------------\n",
        "# Пример вывода:\n",
        "#\n",
        "# Введите предложение: мама МЫла РамУ\n",
        "# {'л': 1, 'р': 1, 'у': 1, 'м': 4, 'а': 4, 'ы': 1, ' ': 2}"
      ],
      "metadata": {
        "colab": {
          "base_uri": "https://localhost:8080/"
        },
        "id": "oYiqQSPGUueA",
        "outputId": "b5ede31b-15db-4e59-f4b9-8f28e9bc3c30"
      },
      "execution_count": 22,
      "outputs": [
        {
          "output_type": "stream",
          "name": "stdout",
          "text": [
            "Введите предложение: мама Мыла Раму\n",
            "{'м': 4, 'а': 4, ' ': 2, 'ы': 1, 'л': 1, 'р': 1, 'у': 1}\n"
          ]
        }
      ]
    },
    {
      "cell_type": "code",
      "source": [
        "# Задание task_03_01_11.\n",
        "#\n",
        "# Выполнил: Чумаков О. А.\n",
        "# Группа: ЦИБ - 241\n",
        "\n",
        "\n",
        "def ceasar(text, shift):\n",
        "    letters = [chr(i) for i in range(ord('а'), ord('я') + 1)]\n",
        "    result = []\n",
        "    for c in text:\n",
        "        if c.lower() in letters:\n",
        "            idx = (letters.index(c.lower()) + shift) % len(letters)\n",
        "            new_c = letters[idx]\n",
        "            result.append(new_c.upper() if c.isupper() else new_c)\n",
        "        else:\n",
        "            result.append(c)\n",
        "    return ''.join(result)\n",
        "\n",
        "text = input(\"Введите предложение: \")\n",
        "shift = int(input(\"Введите сдвиг: \"))\n",
        "encoded = ceasar(text, shift)\n",
        "decoded = ceasar(encoded, -shift)\n",
        "print(\"Зашифрованная строка:\", encoded)\n",
        "print(\"Расшифрованная строка:\", decoded)\n",
        "\n",
        "# --------------\n",
        "# Пример вывода:\n",
        "#\n",
        "# Введите предложение: ПрограММиРОВание С++\n",
        "# Введите сдвиг: 4\n",
        "# Зашифрованная строка: УфтзфдРРмФТЖдсмй Х++\n",
        "# Расшифрованная строка: ПрограММиРОВание С++"
      ],
      "metadata": {
        "colab": {
          "base_uri": "https://localhost:8080/"
        },
        "id": "AfuLJAHeUus0",
        "outputId": "16421602-f421-42f1-c624-a35e4616bd0f"
      },
      "execution_count": 23,
      "outputs": [
        {
          "output_type": "stream",
          "name": "stdout",
          "text": [
            "Введите сдвиг: 4\n",
            "Зашифрованная строка: \n",
            "Расшифрованная строка: \n"
          ]
        }
      ]
    },
    {
      "cell_type": "code",
      "source": [
        "# Задание task_03_01_12.\n",
        "#\n",
        "# Выполнил: Чумаков О. А.\n",
        "# Группа: ЦИБ - 241\n",
        "\n",
        "\n",
        "\n",
        "\n",
        "\n",
        "data = [\n",
        "    {1: 'м', 2: 'м', 3: 'м', 4: 'ж'},\n",
        "    {1: 'ж', 2: 'м', 3: 'ж', 4: 'ж'},\n",
        "    {1: 'ж', 2: 'ж', 3: 'ж', 4: 'ж'},\n",
        "    {1: 'м', 2: 'м', 3: 'м', 4: 'м'},\n",
        "    {1: None, 2: None, 3: None, 4: None},\n",
        "    {1: 'м', 2: None, 3: None, 4: 'ж'},\n",
        "    {1: None, 2: None, 3: None, 4: None},\n",
        "    {1: 'м', 2: 'м', 3: None, 4: 'м'},\n",
        "    {1: 'ж', 2: None, 3: None, 4: 'ж'}\n",
        "]\n",
        "\n",
        "\n",
        "def vacant_compartments(data):\n",
        "    return [i+1 for i, c in enumerate(data) if all(v is None for v in c.values())]\n",
        "\n",
        "def vacant_seats(data, compartments_condition=None, seat_condition=None):\n",
        "    result = []\n",
        "    for i, compartment in enumerate(data):\n",
        "        if compartments_condition and not compartments_condition(compartment):\n",
        "            continue\n",
        "        for seat, value in compartment.items():\n",
        "            if value is None and (not seat_condition or seat_condition(seat, value)):\n",
        "                result.append((i+1, seat))\n",
        "    return result\n",
        "\n",
        "def is_same_sex_and_vacant(compartment, sex):\n",
        "    passengers = [v for v in compartment.values() if v is not None]\n",
        "    return (None in compartment.values() and\n",
        "            all(p == sex for p in passengers))\n",
        "\n",
        "# Примеры использования:\n",
        "print(vacant_compartments(data))\n",
        "print(vacant_seats(data))\n",
        "print(vacant_seats(data, seat_condition=lambda s, v: s % 2 != 0))\n",
        "print(vacant_seats(data, lambda x: is_same_sex_and_vacant(x, \"м\")))\n",
        "print(vacant_seats(data, lambda x: is_same_sex_and_vacant(x, \"ж\")))\n",
        "\n",
        "# --------------\n",
        "# Пример вывода:\n",
        "#\n",
        "# [5, 7]\n",
        "# [(5, 1), (5, 2), (5, 3), (5, 4), (6, 2), (6, 3), (7, 1), (7, 2), (7, 3),\n",
        "#  (7, 4), (8, 3), (9, 2), (9, 3)]\n",
        "# [(5, 1), (5, 3), (6, 3), (7, 1), (7, 3), (8, 3), (9, 3)]\n",
        "# [(5, 2), (5, 4), (6, 2), (7, 2), (7, 4), (9, 2)]\n",
        "# [(8, 3)]\n",
        "# [(9, 2), (9, 3)]"
      ],
      "metadata": {
        "colab": {
          "base_uri": "https://localhost:8080/"
        },
        "id": "2AQKDqneUu4F",
        "outputId": "9a3c10f9-f14b-4768-d553-85294fbf0fcd"
      },
      "execution_count": 24,
      "outputs": [
        {
          "output_type": "stream",
          "name": "stdout",
          "text": [
            "[5, 7]\n",
            "[(5, 1), (5, 2), (5, 3), (5, 4), (6, 2), (6, 3), (7, 1), (7, 2), (7, 3), (7, 4), (8, 3), (9, 2), (9, 3)]\n",
            "[(5, 1), (5, 3), (6, 3), (7, 1), (7, 3), (8, 3), (9, 3)]\n",
            "[(5, 1), (5, 2), (5, 3), (5, 4), (7, 1), (7, 2), (7, 3), (7, 4), (8, 3)]\n",
            "[(5, 1), (5, 2), (5, 3), (5, 4), (7, 1), (7, 2), (7, 3), (7, 4), (9, 2), (9, 3)]\n"
          ]
        }
      ]
    },
    {
      "cell_type": "code",
      "source": [
        "# Задание task_03_01_13.\n",
        "#\n",
        "# Выполнил: Чумаков О. А.\n",
        "# Группа: ЦИБ - 241\n",
        "\n",
        "\n",
        "\n",
        "# В данной задаче ввод с клавиатуры не нужен.\n",
        "#\n",
        "# Используйте значения 'votes', при необходимости измените его для\n",
        "# проверки правильности решения\n",
        "\n",
        "votes = [\n",
        "    2, 3, -1, 2, 5, 1, 1, 4, 1, 1, 1, 3, 1, 3, 5, -1, 5, 2, 5, 5,\n",
        "    3, 3, 2, 3, 3, 2, 2, 1, 3, 2, 5, 2, 2, 4, 1, 1, 3, 2, 2, 3, 3,\n",
        "    3, 1, 4, 2, 1, 4, 2, 3, 3, 3, -1, 5, 3, 1, 4, 5, 1, 1, 3, 3,\n",
        "    3, -1, 5, 3, 3, 2, 5, 1, 1, 5, -1, 1, 2, 2, 3, -1, 4, 2, 5, 4,\n",
        "    2, -1, 3, 1, 4, 3, 5, 4, 1, 5, 3, 2, 4, 2, 1, 3, 4, 1, 1, 3, 4\n",
        "]\n",
        "\n",
        "parties = {\n",
        "    1: \"Партия №1\", 2: \"Партия №2\", 3: \"Партия №3\",\n",
        "    4: \"Партия №4\", 5: \"Партия №5\", -1: \"Испорчено\"\n",
        "}\n",
        "\n",
        "def parties_votes(parties, votes):\n",
        "    result = {name: 0 for name in parties.values()}\n",
        "    for v in votes:\n",
        "        result[parties[v]] += 1\n",
        "    return result\n",
        "\n",
        "def print_results(votes_for_p):\n",
        "    total = sum(votes_for_p.values())\n",
        "    sorted_results = sorted(votes_for_p.items(), key=lambda x: (-x[1], x[0]))\n",
        "    for i, (party, count) in enumerate(sorted_results, 1):\n",
        "        print(f\"{i}. {party} | {count:3} | {count/total*100:5.2f}%\")\n",
        "\n",
        "print_results(parties_votes(parties, votes))\n",
        "\n",
        "# --------------\n",
        "# Пример вывода:\n",
        "#\n",
        "# 1. Партия №3 | 27 | 26.47%\n",
        "# 2. Партия №1 | 22 | 21.57%\n",
        "# 3. Партия №2 | 20 | 19.61%\n",
        "# 4. Партия №5 | 14 | 13.73%\n",
        "# 5. Партия №4 | 12 | 11.76%\n",
        "# 6. Испорчено |  7 |  6.86%"
      ],
      "metadata": {
        "colab": {
          "base_uri": "https://localhost:8080/"
        },
        "id": "oQUHmGJKUvDf",
        "outputId": "72135516-7604-4324-888c-7d27afb8e40b"
      },
      "execution_count": 25,
      "outputs": [
        {
          "output_type": "stream",
          "name": "stdout",
          "text": [
            "1. Партия №3 |  27 | 26.47%\n",
            "2. Партия №1 |  22 | 21.57%\n",
            "3. Партия №2 |  20 | 19.61%\n",
            "4. Партия №5 |  14 | 13.73%\n",
            "5. Партия №4 |  12 | 11.76%\n",
            "6. Испорчено |   7 |  6.86%\n"
          ]
        }
      ]
    },
    {
      "cell_type": "code",
      "source": [
        "# Задание task_03_01_14.\n",
        "# Выполнил: Чумаков О. А.\n",
        "# Группа: ЦИБ - 241\n",
        "\n",
        "\n",
        "\n",
        "def split_numbers(*args):\n",
        "    neg = sorted((n for n in args if n < 0), reverse=True)\n",
        "    non_neg = sorted(n for n in args if n >= 0)\n",
        "    return (neg, non_neg)\n",
        "\n",
        "print(split_numbers(1, 4, -5, 0, -33))\n",
        "\n",
        "# --------------\n",
        "# Пример вывода:\n",
        "#\n",
        "# ([-5, -33], [0, 1, 4])"
      ],
      "metadata": {
        "colab": {
          "base_uri": "https://localhost:8080/"
        },
        "id": "ANet_CFkUvPK",
        "outputId": "c17e3e23-43a5-4ee6-8bb4-d69978bf92c1"
      },
      "execution_count": 26,
      "outputs": [
        {
          "output_type": "stream",
          "name": "stdout",
          "text": [
            "([-5, -33], [0, 1, 4])\n"
          ]
        }
      ]
    },
    {
      "cell_type": "code",
      "source": [
        "# Задание task_03_01_15.\n",
        "# Выполнил: Чумаков О. А.\n",
        "# Группа: ЦИБ - 241\n",
        "\n",
        "\n",
        "def gdp(c, i, g, ex, im):\n",
        "    return c + i + g + ex - im\n",
        "\n",
        "info_dict = {\n",
        "    'c': int(input(\"Конечное потребление: \")),\n",
        "    'i': int(input(\"Валовое накопление капитала: \")),\n",
        "    'g': int(input(\"Государственные расходы: \")),\n",
        "    'ex': int(input(\"Экспорт: \")),\n",
        "    'im': int(input(\"Импорт: \"))\n",
        "}\n",
        "info_list = list(info_dict.values())\n",
        "\n",
        "print(\"ВВП =\", gdp(*info_list))\n",
        "print(\"ВВП =\", gdp(**info_dict))\n",
        "\n",
        "# --------------\n",
        "# Пример вывода:\n",
        "#\n",
        "# Конечное потребление: 100\n",
        "# Валовое накопление капитала: 200\n",
        "# Государственные расходы: 300\n",
        "# Экспорт: 400\n",
        "# Импорт: 500\n",
        "# ВВП = 500\n",
        "# ВВП = 500"
      ],
      "metadata": {
        "colab": {
          "base_uri": "https://localhost:8080/"
        },
        "id": "e228sTliUva_",
        "outputId": "1a30a432-b929-4fb9-820b-9673c69660bc"
      },
      "execution_count": 27,
      "outputs": [
        {
          "output_type": "stream",
          "name": "stdout",
          "text": [
            "Конечное потребление: 100\n",
            "Валовое накопление капитала: 200\n",
            "Государственные расходы: 300\n",
            "Экспорт: 400\n",
            "Импорт: 500\n",
            "ВВП = 500\n",
            "ВВП = 500\n"
          ]
        }
      ]
    },
    {
      "cell_type": "code",
      "source": [
        "# Задание task_03_01_16.\n",
        "#\n",
        "# Выполнил: Чумаков О. А.\n",
        "# Группа: ЦИБ - 241\n",
        "\n",
        "\n",
        "def pow1(value, power):\n",
        "    result = 1\n",
        "    for _ in range(power):\n",
        "        result *= value\n",
        "    return result\n",
        "\n",
        "def pow2(value, power):\n",
        "    return 1 if power == 0 else value * pow2(value, power-1)\n",
        "\n",
        "print(pow1(5, 3))\n",
        "print(pow2(5, 3))\n",
        "# --------------\n",
        "# Пример вывода:\n",
        "#\n",
        "# 125\n",
        "# 125"
      ],
      "metadata": {
        "colab": {
          "base_uri": "https://localhost:8080/"
        },
        "id": "z9LyUhffUvlr",
        "outputId": "17e7ed7e-72ec-47f1-d2f1-ac705fa333b6"
      },
      "execution_count": 29,
      "outputs": [
        {
          "output_type": "stream",
          "name": "stdout",
          "text": [
            "125\n",
            "125\n"
          ]
        }
      ]
    },
    {
      "cell_type": "code",
      "source": [
        "# Задание task_03_01_17.\n",
        "# Выполнил: Чумаков О. А.\n",
        "# Группа: ЦИБ - 241\n",
        "\n",
        "def digits_sum(value):\n",
        "    return 0 if value == 0 else value % 10 + digits_sum(value // 10)\n",
        "\n",
        "def digits_count(value):\n",
        "    return 1 if value < 10 else 1 + digits_count(value // 10)\n",
        "\n",
        "print(digits_sum(12345))\n",
        "print(digits_count(12345))\n",
        "# --------------\n",
        "# Пример вывода:\n",
        "#\n",
        "# 15\n",
        "# 5"
      ],
      "metadata": {
        "colab": {
          "base_uri": "https://localhost:8080/"
        },
        "id": "BaybxpmUXIfG",
        "outputId": "d0c169ca-3cde-40fe-9aab-ca8a359223b4"
      },
      "execution_count": 30,
      "outputs": [
        {
          "output_type": "stream",
          "name": "stdout",
          "text": [
            "15\n",
            "5\n"
          ]
        }
      ]
    }
  ]
}