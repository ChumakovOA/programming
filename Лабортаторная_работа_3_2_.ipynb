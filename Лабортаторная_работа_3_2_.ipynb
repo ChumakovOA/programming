{
  "nbformat": 4,
  "nbformat_minor": 0,
  "metadata": {
    "colab": {
      "provenance": [],
      "authorship_tag": "ABX9TyMguShHQHycOkfdJlgj7IY3",
      "include_colab_link": true
    },
    "kernelspec": {
      "name": "python3",
      "display_name": "Python 3"
    },
    "language_info": {
      "name": "python"
    }
  },
  "cells": [
    {
      "cell_type": "markdown",
      "metadata": {
        "id": "view-in-github",
        "colab_type": "text"
      },
      "source": [
        "<a href=\"https://colab.research.google.com/github/ChumakovOA/programming/blob/main/%D0%9B%D0%B0%D0%B1%D0%BE%D1%80%D1%82%D0%B0%D1%82%D0%BE%D1%80%D0%BD%D0%B0%D1%8F_%D1%80%D0%B0%D0%B1%D0%BE%D1%82%D0%B0_3_2_.ipynb\" target=\"_parent\"><img src=\"https://colab.research.google.com/assets/colab-badge.svg\" alt=\"Open In Colab\"/></a>"
      ]
    },
    {
      "cell_type": "code",
      "execution_count": 4,
      "metadata": {
        "colab": {
          "base_uri": "https://localhost:8080/"
        },
        "id": "mY9zaLIMRgj9",
        "outputId": "6692df12-7a94-4441-c21b-f602d2bccbf9"
      },
      "outputs": [
        {
          "output_type": "stream",
          "name": "stdout",
          "text": [
            "Исходный массив:\n",
            "['675.48', '122.51', '347.53', '300.89', '762.82', '709.03', '902.96', '178.24', '479.73', '126.82', '296.77', '554.82', '123.88', '278.95', '684.90', '590.45', '298.40', '630.34', '828.49', '105.85']\n",
            "\n",
            "Число 500.0 не найдено\n"
          ]
        }
      ],
      "source": [
        "# Задание 1\n",
        "def sequential_search(arr, target):\n",
        "    for i in range(len(arr)):\n",
        "        if abs(arr[i] - target) < 1e-9:\n",
        "            return i\n",
        "    return -1\n",
        "\n",
        "import random\n",
        "random.seed(42)\n",
        "array = [random.uniform(100.0, 1000.0) for _ in range(20)]\n",
        "print(\"Исходный массив:\")\n",
        "print([f\"{x:.2f}\" for x in array])\n",
        "\n",
        "target = 500.0\n",
        "index = sequential_search(array, target)\n",
        "print(f\"\\nЧисло {target:.1f} {'найдено по индексу ' + str(index) if index != -1 else 'не найдено'}\")"
      ]
    },
    {
      "cell_type": "code",
      "source": [
        "# Задание 2\n",
        "def insertion_sort(arr):\n",
        "    for i in range(1, len(arr)):\n",
        "        key = arr[i]\n",
        "        j = i - 1\n",
        "        while j >= 0 and arr[j] > key:\n",
        "            arr[j + 1] = arr[j]\n",
        "            j -= 1\n",
        "        arr[j + 1] = key\n",
        "    return arr\n",
        "\n",
        "sorted_array = insertion_sort(array.copy())\n",
        "print(\"\\nОтсортированный массив (прямое включение):\")\n",
        "print([f\"{x:.2f}\" for x in sorted_array])"
      ],
      "metadata": {
        "colab": {
          "base_uri": "https://localhost:8080/"
        },
        "id": "p7ngpjAQRvkR",
        "outputId": "c817332b-0360-40b0-fb5c-66130cd388a8"
      },
      "execution_count": 2,
      "outputs": [
        {
          "output_type": "stream",
          "name": "stdout",
          "text": [
            "\n",
            "Отсортированный массив (прямое включение):\n",
            "['105.85', '122.51', '123.88', '126.82', '178.24', '278.95', '296.77', '298.40', '300.89', '347.53', '479.73', '554.82', '590.45', '630.34', '675.48', '684.90', '709.03', '762.82', '828.49', '902.96']\n"
          ]
        }
      ]
    },
    {
      "cell_type": "code",
      "source": [
        "# Задание 3\n",
        "def shell_sort(arr):\n",
        "    n = len(arr)\n",
        "    gap = n // 2\n",
        "\n",
        "    while gap > 0:\n",
        "        for i in range(gap, n):\n",
        "            temp = arr[i]\n",
        "            j = i\n",
        "            while j >= gap and arr[j - gap] > temp:\n",
        "                arr[j] = arr[j - gap]\n",
        "                j -= gap\n",
        "            arr[j] = temp\n",
        "        gap //= 2\n",
        "    return arr\n",
        "\n",
        "shell_sorted_array = shell_sort(array.copy())\n",
        "print(\"\\nОтсортированный массив (Шелла):\")\n",
        "print([f\"{x:.2f}\" for x in shell_sorted_array])"
      ],
      "metadata": {
        "colab": {
          "base_uri": "https://localhost:8080/"
        },
        "id": "I2xq8ZdgRyjg",
        "outputId": "1e7639af-c347-488a-a434-410309921d29"
      },
      "execution_count": 3,
      "outputs": [
        {
          "output_type": "stream",
          "name": "stdout",
          "text": [
            "\n",
            "Отсортированный массив (Шелла):\n",
            "['105.85', '122.51', '123.88', '126.82', '178.24', '278.95', '296.77', '298.40', '300.89', '347.53', '479.73', '554.82', '590.45', '630.34', '675.48', '684.90', '709.03', '762.82', '828.49', '902.96']\n"
          ]
        }
      ]
    }
  ]
}